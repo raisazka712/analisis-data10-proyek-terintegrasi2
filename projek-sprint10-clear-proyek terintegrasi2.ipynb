{
  "metadata": {
    "kernelspec": {
      "name": "python",
      "display_name": "Python (Pyodide)",
      "language": "python"
    },
    "language_info": {
      "codemirror_mode": {
        "name": "python",
        "version": 3
      },
      "file_extension": ".py",
      "mimetype": "text/x-python",
      "name": "python",
      "nbconvert_exporter": "python",
      "pygments_lexer": "ipython3",
      "version": "3.8"
    },
    "toc": {
      "base_numbering": 1,
      "nav_menu": {},
      "number_sections": true,
      "sideBar": true,
      "skip_h1_title": true,
      "title_cell": "Table of Contents",
      "title_sidebar": "Contents",
      "toc_cell": false,
      "toc_position": {
        "height": "calc(100% - 180px)",
        "left": "10px",
        "top": "150px",
        "width": "219.653px"
      },
      "toc_section_display": true,
      "toc_window_display": true
    }
  },
  "nbformat_minor": 4,
  "nbformat": 4,
  "cells": [
    {
      "cell_type": "markdown",
      "source": "# Contents\n\n* Introduction\n* Stage 1 : Data overview\n    * 1.1 Goal\n    * 1.2 Stages\n    \n* Stage 2 : Langkah 1: Data Preprocessing\n    * 2.1 Import Library\n    * 2.2 Load Data\n    \n* Stage 3 : Langkah 2 : Data Preparation\n    * 3.1 Ubah nama kolom sesuai dengan yang kamu inginkan.\n    * 3.2 Periksa nilai yang hilang dan tipe datanya. Perbaiki datanya jika diperlukan.\n    * 3.3 Tambahkan kolom tanggal dan waktu, serta satu kolom terpisah untuk tanggal.\n        \n* Stage 4 : Langkah 3 : Pelajari dan periksa datanya\n    * 4.1 Berapa banyak peristiwa yang tercatat dalam log?\n    * 4.2 Berapa banyak pengguna yang tercatat dalam log?\n    * 4.3 Berapa jumlah rata-rata peristiwa per pengguna?\n    * 4.4  Periode waktu mana yang dicakup oleh data? Temukan tanggal maksimum dan minimumnya. Buat sebuah histogram berdasarkan tanggal dan waktu. Bisakah kamu memastikan bahwa data yang kamu miliki sama lengkapnya untuk seluruh periode? Peristiwa terdahulu bisa saja muncul dalam log beberapa pengguna karena alasan teknis dan ini bisa mengacaukan distribusi data secara keseluruhan. Temukan momen ketika data mulai dirasa lengkap dan abaikan data lama tersebut. Periode mana yang benar-benar diwakili oleh data yang kamu miliki?\n    * 4.5 Apakah kamu kehilangan banyak peristiwa dan pengguna saat menyingkirkan data lama?\n    * 4.6  Pastikan kamu memiliki pengguna dari ketiga kelompok eksperimen.\n\n* Stage 5 : Langkah 4 : Pelajari funnel peristiwanya\n    * 5.1 Lihat peristiwa apa saja yang ada dalam log dan berapa banyak frekuensi kemunculannya. Urutkan peristiwa tersebut berdasarkan frekuensi.\n    * 5.2 Temukan jumlah pengguna yang melakukan setiap tindakan. Urutkan peristiwa berdasarkan jumlah pengguna. Hitung proporsi pengguna yang melakukan tindakan setidaknya satu kali.\n    * 5.3 Menurutmu, dalam urutan apa tindakan-tindakan tersebut terjadi? Apakah semuanya merupakan bagian dari satu urutan? Kamu tidak perlu memperhitungkan semuanya saat menghitung funnel.\n    * 5.4 Gunakan funnel peristiwa untuk menemukan persentase pengguna yang terus berlanjut dari satu tahap ke tahap berikutnya. (Misalnya, untuk urutan peristiwa A → B → C, hitung rasio pengguna pada tahap B terhadap jumlah pengguna pada tahap A, serta rasio pengguna pada tahap C terhadap jumlah pengguna pada tahap B).\n    * 5.5 Pada tahap mana kamu kehilangan banyak pengguna?\n    * 5.6 Berapa banyak persentase pengguna yang berhasil menyelesaikan seluruh tahapan yang ada, dari peristiwa pertama hingga pembayaran?\n\n* Stage 6 : Langkah 5 : Pelajari hasil eksperimenmu (Uji Hipotesis)\n    * 6.1 Berapa banyak pengguna yang ada di setiap kelompok?\n    * 6.2 Kita memiliki dua kelompok kontrol dalam A/A testing di mana kita memeriksa mekanisme dan perhitungan kita. Perhatikan apakah ada perbedaan yang signifikan secara statistik antara sampel 246 dan 247.\n    * 6.3 Pilih peristiwa yang paling populer. Pada setiap kelompok kontrol, temukan jumlah pengguna yang melakukan tindakan tersebut. Temukan persentasenya. Periksa apakah perbedaan antar kelompok signifikan secara statistik. Ulangi prosedur ini untuk semua peristiwa lainnya (akan menghemat waktu jika kamu bisa menciptakan sebuah fungsi khusus untuk melakukan pengujian ini). Bisakah kamu memastikan apakah kelompok-kelompok tersebut sudah dipisah dengan benar?\n    * 6.4 Lakukan hal yang sama untuk kelompok pengguna yang diperlihatkan versi font terbaru. Bandingkan hasilnya dengan masing-masing kelompok kontrol untuk setiap peristiwa secara terpisah. Bandingkan hasilnya dengan hasil gabungan untuk kelompok kontrol. Nah, kesimpulan apa yang bisa kamu tarik dari eksperimen tersebut?\n    * 6.5 Berapa tingkat signifikansi yang kamu tetapkan untuk menguji hipotesis statistik yang disebutkan di atas? Hitung berapa banyak pengujian hipotesis statistik yang telah kamu lakukan. Dengan tingkat signifikansi statistik 0,1 - satu dari 10 hasil bisa saja salah. Berapa tingkat signifikansi yang seharusnya ditetapkan? Jika kamu ingin mengubahnya, jalankan ulang tahap sebelumnya dan periksa kesimpulanmu.\n        * 6.5.1 Alpha 0.05\n        * 6.5.2 Alpha 0.01\n\n* Stage 7 : Kesimpulan Umum\n\n\n#  Introduction\n\nSetiap kali kita melakukan penelitian, kita membutuhkan formula hipotesis yang akan kita uji. Terkadang kita bisa menerima hipotesis tersebut, dan juga kita dapat menolaknya. Pebisnis harus paham untuk membuat asumsi yang tepat.\n\nDalam projek kali ini, kami perlu mencari tahu perilaku pengguna aplikasi dari perusahaan. Tugas kami adalah Melakukan analisis reguler dan analisis A/A/B Testing, apakah perubahan font pada aplikasi berpengaruh pada rata-rata konversi penjualan produk makanan?\n\nTersedia beberapa dataset yang berisi hipotesis singkat, data pesanan dan data kunjungan. Dari ketiga dataset tersebut kami akan melakukan analisis untuk memproritaskan hipotesis-hipotesis tersebut.",
      "metadata": {}
    },
    {
      "cell_type": "markdown",
      "source": "## Data Overview\n\nKamu bekerja di sebuah startup yang menjual produk makanan. Kamu perlu mencari tahu perilaku pengguna aplikasi dari perusahaan tersebut.\n\nPertama-tama, kamu perlu mempelajari funnel penjualannya terlebih dahulu. Temukan jalur yang harus dilalui pengguna untuk bisa mencapai tahap pembelian. Berapa banyak pengguna yang benar-benar berhasil mencapai tahap pembelian? Berapa banyak pengguna yang terhenti pada tahap-tahap sebelumnya? Pada tahap mana persisnya hal tersebut terjadi?\n\nKemudian, lihat hasil dari A/A/B testing (Baca terus untuk mengetahui informasi lebih lanjut tentang A/A/B testing). Tim web designer ingin mengubah font untuk keseluruhan aplikasi, tetapi product manager merasa khawatir jika para pengguna justru akan merasa bahwa desain baru tersebut mengganggu. Mereka pun memutuskan untuk mengambil keputusan berdasarkan hasil A/A/B testing.\n\nPara pengguna dibagi menjadi tiga kelompok: dua kelompok kontrol diperlihatkan dengan versi font lama dan satu kelompok uji diperlihatkan dengan versi font terbaru. Tugasmu adalah mencari tahu font mana yang akan memberi hasil terbaik.\n\nMembuat dua kelompok A (kontrol) memang memberikan keuntungan tertentu. Kita bisa menetapkan aturan bahwa keakuratan pengujian hanya akan diterima jika kedua kelompok kontrol memberikan hasil yang serupa. Jika ada perbedaan yang signifikan di antara kedua kelompok A, hal ini bisa membantu kita untuk mengidentifikasi faktor-faktor yang mungkin mendistorsi hasil yang kita peroleh. Membandingkan kelompok kontrol juga akan memberikan kita gambaran terkait berapa lama waktu dan data yang diperlukan saat menjalankan proses selanjutnya.\n\nKamu akan menggunakan dataset yang sama untuk melakukan analisis reguler dan untuk melakukan analisis A/A/B. Pada proyek dunia nyata, eksperimen seperti ini dilakukan secara rutin. Analyst mempelajari kualitas aplikasi menggunakan data umum, tanpa memedulikan apakah pengguna berpartisipasi dalam eksperimen atau tidak.\n\n\n### Goal\n\nTujuan Utama dalam Analisis Data ini adalah :\n\n   1. Melakukan analisis reguler dan analisis A/A/B Testing, apakah perubahan font pada aplikasi berpengaruh pada rata-rata konversi penjualan produk makanan?\n    \n### Stages\n\nData yang berasal dari open source disimpan dalam file '/datasets/logs_exp_us.csv'\n\nTidak terdapat informasi tentang kualitas data, sehingga kita harus eksplor data tersebut sebelum melakukan hipotesis.\n\nPertama, kita akan mengevaluasi kualitas data dan melihat apakah ada masalah yang signifikan. Kemudian, selama data preprocessing, kita akan menghitung masalah kritis.\n\nDalam projek ini terdiri dari empat tahapan : \n\n    1. Data overview\n    2. Data preprocessing\n    3. Exploratory Data Analysis (EDA)\n    4. Uji Hipotesis",
      "metadata": {}
    },
    {
      "cell_type": "markdown",
      "source": "## Langkah 1: Data Preprocessing\n\nFile path: /datasets/logs_exp_us.csv",
      "metadata": {}
    },
    {
      "cell_type": "markdown",
      "source": "### Import Library",
      "metadata": {}
    },
    {
      "cell_type": "code",
      "source": "# Import Library Data Processing\nimport pandas as pd\nimport numpy as np\n\n# Import Library Data Visualization \nimport seaborn as sns\nimport matplotlib.pyplot as plt \nfrom scipy import stats\nimport math\n\n# Import library Warnings\nimport warnings\nwarnings.filterwarnings('ignore')",
      "metadata": {},
      "outputs": [],
      "execution_count": 1
    },
    {
      "cell_type": "markdown",
      "source": "### Load Data",
      "metadata": {}
    },
    {
      "cell_type": "code",
      "source": "data = pd.read_csv('/datasets/logs_exp_us.csv', sep='\\t')\ndata.head()",
      "metadata": {},
      "outputs": [
        {
          "data": {
            "text/html": [
              "<div>\n",
              "<style scoped>\n",
              "    .dataframe tbody tr th:only-of-type {\n",
              "        vertical-align: middle;\n",
              "    }\n",
              "\n",
              "    .dataframe tbody tr th {\n",
              "        vertical-align: top;\n",
              "    }\n",
              "\n",
              "    .dataframe thead th {\n",
              "        text-align: right;\n",
              "    }\n",
              "</style>\n",
              "<table border=\"1\" class=\"dataframe\">\n",
              "  <thead>\n",
              "    <tr style=\"text-align: right;\">\n",
              "      <th></th>\n",
              "      <th>EventName</th>\n",
              "      <th>DeviceIDHash</th>\n",
              "      <th>EventTimestamp</th>\n",
              "      <th>ExpId</th>\n",
              "    </tr>\n",
              "  </thead>\n",
              "  <tbody>\n",
              "    <tr>\n",
              "      <th>0</th>\n",
              "      <td>MainScreenAppear</td>\n",
              "      <td>4575588528974610257</td>\n",
              "      <td>1564029816</td>\n",
              "      <td>246</td>\n",
              "    </tr>\n",
              "    <tr>\n",
              "      <th>1</th>\n",
              "      <td>MainScreenAppear</td>\n",
              "      <td>7416695313311560658</td>\n",
              "      <td>1564053102</td>\n",
              "      <td>246</td>\n",
              "    </tr>\n",
              "    <tr>\n",
              "      <th>2</th>\n",
              "      <td>PaymentScreenSuccessful</td>\n",
              "      <td>3518123091307005509</td>\n",
              "      <td>1564054127</td>\n",
              "      <td>248</td>\n",
              "    </tr>\n",
              "    <tr>\n",
              "      <th>3</th>\n",
              "      <td>CartScreenAppear</td>\n",
              "      <td>3518123091307005509</td>\n",
              "      <td>1564054127</td>\n",
              "      <td>248</td>\n",
              "    </tr>\n",
              "    <tr>\n",
              "      <th>4</th>\n",
              "      <td>PaymentScreenSuccessful</td>\n",
              "      <td>6217807653094995999</td>\n",
              "      <td>1564055322</td>\n",
              "      <td>248</td>\n",
              "    </tr>\n",
              "  </tbody>\n",
              "</table>\n",
              "</div>"
            ],
            "text/plain": [
              "                 EventName         DeviceIDHash  EventTimestamp  ExpId\n",
              "0         MainScreenAppear  4575588528974610257      1564029816    246\n",
              "1         MainScreenAppear  7416695313311560658      1564053102    246\n",
              "2  PaymentScreenSuccessful  3518123091307005509      1564054127    248\n",
              "3         CartScreenAppear  3518123091307005509      1564054127    248\n",
              "4  PaymentScreenSuccessful  6217807653094995999      1564055322    248"
            ]
          },
          "execution_count": 2,
          "metadata": {},
          "output_type": "execute_result"
        }
      ],
      "execution_count": 2
    },
    {
      "cell_type": "markdown",
      "source": "Deskripsi data\n* Setiap entri log adalah catatan tindakan pengguna atau suatu peristiwa.\n* EventName — nama peristiwa\n* DeviceIDHash — ID unik pengguna\n* EventTimestamp — waktu peristiwa\n* ExpId — nomor eksperimen: 246 dan 247 untuk kelompok kontrol, 248 untuk kelompok uji",
      "metadata": {}
    },
    {
      "cell_type": "code",
      "source": "# cek jumlah event name/nama peristiwa\ndata['EventName'].value_counts()",
      "metadata": {},
      "outputs": [
        {
          "data": {
            "text/plain": [
              "MainScreenAppear           119205\n",
              "OffersScreenAppear          46825\n",
              "CartScreenAppear            42731\n",
              "PaymentScreenSuccessful     34313\n",
              "Tutorial                     1052\n",
              "Name: EventName, dtype: int64"
            ]
          },
          "execution_count": 3,
          "metadata": {},
          "output_type": "execute_result"
        }
      ],
      "execution_count": 3
    },
    {
      "cell_type": "code",
      "source": "# cek jumlah nomor eksperimen\ndata['ExpId'].value_counts()",
      "metadata": {},
      "outputs": [
        {
          "data": {
            "text/plain": [
              "248    85747\n",
              "246    80304\n",
              "247    78075\n",
              "Name: ExpId, dtype: int64"
            ]
          },
          "execution_count": 4,
          "metadata": {},
          "output_type": "execute_result"
        }
      ],
      "execution_count": 4
    },
    {
      "cell_type": "code",
      "source": "# ganti nilai kolom eventTimeStamp agar dapat dibaca oleh user\nimport datetime\n\ndatetime.datetime.fromtimestamp(1564029816).strftime('%c') ",
      "metadata": {},
      "outputs": [
        {
          "data": {
            "text/plain": [
              "'Thu Jul 25 04:43:36 2019'"
            ]
          },
          "execution_count": 5,
          "metadata": {},
          "output_type": "execute_result"
        }
      ],
      "execution_count": 5
    },
    {
      "cell_type": "code",
      "source": "pd.to_datetime(data['EventTimestamp'], unit='s')",
      "metadata": {},
      "outputs": [
        {
          "data": {
            "text/plain": [
              "0        2019-07-25 04:43:36\n",
              "1        2019-07-25 11:11:42\n",
              "2        2019-07-25 11:28:47\n",
              "3        2019-07-25 11:28:47\n",
              "4        2019-07-25 11:48:42\n",
              "                 ...        \n",
              "244121   2019-08-07 21:12:25\n",
              "244122   2019-08-07 21:13:59\n",
              "244123   2019-08-07 21:14:43\n",
              "244124   2019-08-07 21:14:58\n",
              "244125   2019-08-07 21:15:17\n",
              "Name: EventTimestamp, Length: 244126, dtype: datetime64[ns]"
            ]
          },
          "execution_count": 6,
          "metadata": {},
          "output_type": "execute_result"
        }
      ],
      "execution_count": 6
    },
    {
      "cell_type": "code",
      "source": "# cek kolom DeviceIDHash\ndata['DeviceIDHash'].value_counts()",
      "metadata": {},
      "outputs": [
        {
          "data": {
            "text/plain": [
              "6304868067479728361    2308\n",
              "197027893265565660     2003\n",
              "4623191541214045580    1771\n",
              "6932517045703054087    1448\n",
              "1754140665440434215    1222\n",
              "                       ... \n",
              "8188293597840107588       1\n",
              "1616856457908967248       1\n",
              "732356052255400077        1\n",
              "6671109879025379318       1\n",
              "2275878174127603404       1\n",
              "Name: DeviceIDHash, Length: 7551, dtype: int64"
            ]
          },
          "execution_count": 7,
          "metadata": {},
          "output_type": "execute_result"
        }
      ],
      "execution_count": 7
    },
    {
      "cell_type": "code",
      "source": "# cek data nya dan pelajari informasi umumnya\n# cek info pada df_hypotesis\ndata.info()\nprint('\\nmissing value: \\n', data.isnull().sum())\nprint('\\nDuplikasi    :', data.duplicated().sum())",
      "metadata": {},
      "outputs": [
        {
          "name": "stdout",
          "output_type": "stream",
          "text": [
            "<class 'pandas.core.frame.DataFrame'>\n",
            "RangeIndex: 244126 entries, 0 to 244125\n",
            "Data columns (total 4 columns):\n",
            " #   Column          Non-Null Count   Dtype \n",
            "---  ------          --------------   ----- \n",
            " 0   EventName       244126 non-null  object\n",
            " 1   DeviceIDHash    244126 non-null  int64 \n",
            " 2   EventTimestamp  244126 non-null  int64 \n",
            " 3   ExpId           244126 non-null  int64 \n",
            "dtypes: int64(3), object(1)\n",
            "memory usage: 7.5+ MB\n",
            "\n",
            "missing value: \n",
            " EventName         0\n",
            "DeviceIDHash      0\n",
            "EventTimestamp    0\n",
            "ExpId             0\n",
            "dtype: int64\n",
            "\n",
            "Duplikasi    : 413\n"
          ]
        }
      ],
      "execution_count": 8
    },
    {
      "cell_type": "markdown",
      "source": "**Kesimpulan Sementara**\n* Tidak terdapat missing value pada dataset\n* Terdapat banyak duplikasi data, oleh karena itu nanti nya akan kita hapus duplikasi nya\n* Kolom EventTimestamp memiliki tipe data yang tidak sesuai, harus disesuaikan dahulu",
      "metadata": {}
    },
    {
      "cell_type": "markdown",
      "source": "## Langkah 2 : Data Preparation\n\nSiapkan data untuk analisis\n* Ubah nama kolom sesuai dengan yang kamu inginkan.\n* Periksa nilai yang hilang dan tipe datanya. Perbaiki datanya jika diperlukan.\n* Tambahkan kolom tanggal dan waktu, serta satu kolom terpisah untuk tanggal.",
      "metadata": {}
    },
    {
      "cell_type": "code",
      "source": "# Hapus data duplikat\ndata = data.drop_duplicates().reset_index(drop=True)\ndata",
      "metadata": {},
      "outputs": [
        {
          "data": {
            "text/html": [
              "<div>\n",
              "<style scoped>\n",
              "    .dataframe tbody tr th:only-of-type {\n",
              "        vertical-align: middle;\n",
              "    }\n",
              "\n",
              "    .dataframe tbody tr th {\n",
              "        vertical-align: top;\n",
              "    }\n",
              "\n",
              "    .dataframe thead th {\n",
              "        text-align: right;\n",
              "    }\n",
              "</style>\n",
              "<table border=\"1\" class=\"dataframe\">\n",
              "  <thead>\n",
              "    <tr style=\"text-align: right;\">\n",
              "      <th></th>\n",
              "      <th>EventName</th>\n",
              "      <th>DeviceIDHash</th>\n",
              "      <th>EventTimestamp</th>\n",
              "      <th>ExpId</th>\n",
              "    </tr>\n",
              "  </thead>\n",
              "  <tbody>\n",
              "    <tr>\n",
              "      <th>0</th>\n",
              "      <td>MainScreenAppear</td>\n",
              "      <td>4575588528974610257</td>\n",
              "      <td>1564029816</td>\n",
              "      <td>246</td>\n",
              "    </tr>\n",
              "    <tr>\n",
              "      <th>1</th>\n",
              "      <td>MainScreenAppear</td>\n",
              "      <td>7416695313311560658</td>\n",
              "      <td>1564053102</td>\n",
              "      <td>246</td>\n",
              "    </tr>\n",
              "    <tr>\n",
              "      <th>2</th>\n",
              "      <td>PaymentScreenSuccessful</td>\n",
              "      <td>3518123091307005509</td>\n",
              "      <td>1564054127</td>\n",
              "      <td>248</td>\n",
              "    </tr>\n",
              "    <tr>\n",
              "      <th>3</th>\n",
              "      <td>CartScreenAppear</td>\n",
              "      <td>3518123091307005509</td>\n",
              "      <td>1564054127</td>\n",
              "      <td>248</td>\n",
              "    </tr>\n",
              "    <tr>\n",
              "      <th>4</th>\n",
              "      <td>PaymentScreenSuccessful</td>\n",
              "      <td>6217807653094995999</td>\n",
              "      <td>1564055322</td>\n",
              "      <td>248</td>\n",
              "    </tr>\n",
              "    <tr>\n",
              "      <th>...</th>\n",
              "      <td>...</td>\n",
              "      <td>...</td>\n",
              "      <td>...</td>\n",
              "      <td>...</td>\n",
              "    </tr>\n",
              "    <tr>\n",
              "      <th>243708</th>\n",
              "      <td>MainScreenAppear</td>\n",
              "      <td>4599628364049201812</td>\n",
              "      <td>1565212345</td>\n",
              "      <td>247</td>\n",
              "    </tr>\n",
              "    <tr>\n",
              "      <th>243709</th>\n",
              "      <td>MainScreenAppear</td>\n",
              "      <td>5849806612437486590</td>\n",
              "      <td>1565212439</td>\n",
              "      <td>246</td>\n",
              "    </tr>\n",
              "    <tr>\n",
              "      <th>243710</th>\n",
              "      <td>MainScreenAppear</td>\n",
              "      <td>5746969938801999050</td>\n",
              "      <td>1565212483</td>\n",
              "      <td>246</td>\n",
              "    </tr>\n",
              "    <tr>\n",
              "      <th>243711</th>\n",
              "      <td>MainScreenAppear</td>\n",
              "      <td>5746969938801999050</td>\n",
              "      <td>1565212498</td>\n",
              "      <td>246</td>\n",
              "    </tr>\n",
              "    <tr>\n",
              "      <th>243712</th>\n",
              "      <td>OffersScreenAppear</td>\n",
              "      <td>5746969938801999050</td>\n",
              "      <td>1565212517</td>\n",
              "      <td>246</td>\n",
              "    </tr>\n",
              "  </tbody>\n",
              "</table>\n",
              "<p>243713 rows × 4 columns</p>\n",
              "</div>"
            ],
            "text/plain": [
              "                      EventName         DeviceIDHash  EventTimestamp  ExpId\n",
              "0              MainScreenAppear  4575588528974610257      1564029816    246\n",
              "1              MainScreenAppear  7416695313311560658      1564053102    246\n",
              "2       PaymentScreenSuccessful  3518123091307005509      1564054127    248\n",
              "3              CartScreenAppear  3518123091307005509      1564054127    248\n",
              "4       PaymentScreenSuccessful  6217807653094995999      1564055322    248\n",
              "...                         ...                  ...             ...    ...\n",
              "243708         MainScreenAppear  4599628364049201812      1565212345    247\n",
              "243709         MainScreenAppear  5849806612437486590      1565212439    246\n",
              "243710         MainScreenAppear  5746969938801999050      1565212483    246\n",
              "243711         MainScreenAppear  5746969938801999050      1565212498    246\n",
              "243712       OffersScreenAppear  5746969938801999050      1565212517    246\n",
              "\n",
              "[243713 rows x 4 columns]"
            ]
          },
          "execution_count": 9,
          "metadata": {},
          "output_type": "execute_result"
        }
      ],
      "execution_count": 9
    },
    {
      "cell_type": "markdown",
      "source": "### Ubah nama kolom sesuai dengan yang kamu inginkan.",
      "metadata": {}
    },
    {
      "cell_type": "code",
      "source": "# ubah nama kolom sesuai keinginan\ndata.rename(columns={\n    'EventName': 'event',\n    'DeviceIDHash': 'user',\n    'EventTimestamp': 'timestamp',\n    'ExpId': 'exp_id'\n}, inplace=True)",
      "metadata": {},
      "outputs": [],
      "execution_count": 10
    },
    {
      "cell_type": "code",
      "source": "# cek data nya\ndata.head()",
      "metadata": {},
      "outputs": [
        {
          "data": {
            "text/html": [
              "<div>\n",
              "<style scoped>\n",
              "    .dataframe tbody tr th:only-of-type {\n",
              "        vertical-align: middle;\n",
              "    }\n",
              "\n",
              "    .dataframe tbody tr th {\n",
              "        vertical-align: top;\n",
              "    }\n",
              "\n",
              "    .dataframe thead th {\n",
              "        text-align: right;\n",
              "    }\n",
              "</style>\n",
              "<table border=\"1\" class=\"dataframe\">\n",
              "  <thead>\n",
              "    <tr style=\"text-align: right;\">\n",
              "      <th></th>\n",
              "      <th>event</th>\n",
              "      <th>user</th>\n",
              "      <th>timestamp</th>\n",
              "      <th>exp_id</th>\n",
              "    </tr>\n",
              "  </thead>\n",
              "  <tbody>\n",
              "    <tr>\n",
              "      <th>0</th>\n",
              "      <td>MainScreenAppear</td>\n",
              "      <td>4575588528974610257</td>\n",
              "      <td>1564029816</td>\n",
              "      <td>246</td>\n",
              "    </tr>\n",
              "    <tr>\n",
              "      <th>1</th>\n",
              "      <td>MainScreenAppear</td>\n",
              "      <td>7416695313311560658</td>\n",
              "      <td>1564053102</td>\n",
              "      <td>246</td>\n",
              "    </tr>\n",
              "    <tr>\n",
              "      <th>2</th>\n",
              "      <td>PaymentScreenSuccessful</td>\n",
              "      <td>3518123091307005509</td>\n",
              "      <td>1564054127</td>\n",
              "      <td>248</td>\n",
              "    </tr>\n",
              "    <tr>\n",
              "      <th>3</th>\n",
              "      <td>CartScreenAppear</td>\n",
              "      <td>3518123091307005509</td>\n",
              "      <td>1564054127</td>\n",
              "      <td>248</td>\n",
              "    </tr>\n",
              "    <tr>\n",
              "      <th>4</th>\n",
              "      <td>PaymentScreenSuccessful</td>\n",
              "      <td>6217807653094995999</td>\n",
              "      <td>1564055322</td>\n",
              "      <td>248</td>\n",
              "    </tr>\n",
              "  </tbody>\n",
              "</table>\n",
              "</div>"
            ],
            "text/plain": [
              "                     event                 user   timestamp  exp_id\n",
              "0         MainScreenAppear  4575588528974610257  1564029816     246\n",
              "1         MainScreenAppear  7416695313311560658  1564053102     246\n",
              "2  PaymentScreenSuccessful  3518123091307005509  1564054127     248\n",
              "3         CartScreenAppear  3518123091307005509  1564054127     248\n",
              "4  PaymentScreenSuccessful  6217807653094995999  1564055322     248"
            ]
          },
          "execution_count": 11,
          "metadata": {},
          "output_type": "execute_result"
        }
      ],
      "execution_count": 11
    },
    {
      "cell_type": "markdown",
      "source": "### Periksa nilai yang hilang dan tipe datanya. Perbaiki datanya jika diperlukan.",
      "metadata": {}
    },
    {
      "cell_type": "code",
      "source": "# periksa tipe datanya\ndata.dtypes",
      "metadata": {},
      "outputs": [
        {
          "data": {
            "text/plain": [
              "event        object\n",
              "user          int64\n",
              "timestamp     int64\n",
              "exp_id        int64\n",
              "dtype: object"
            ]
          },
          "execution_count": 12,
          "metadata": {},
          "output_type": "execute_result"
        }
      ],
      "execution_count": 12
    },
    {
      "cell_type": "code",
      "source": "# ubah tipe data pada kolom timestamp ke datetime\ndata['date_time'] = pd.to_datetime(data['timestamp'], unit='s')\ndata.head()",
      "metadata": {},
      "outputs": [
        {
          "data": {
            "text/html": [
              "<div>\n",
              "<style scoped>\n",
              "    .dataframe tbody tr th:only-of-type {\n",
              "        vertical-align: middle;\n",
              "    }\n",
              "\n",
              "    .dataframe tbody tr th {\n",
              "        vertical-align: top;\n",
              "    }\n",
              "\n",
              "    .dataframe thead th {\n",
              "        text-align: right;\n",
              "    }\n",
              "</style>\n",
              "<table border=\"1\" class=\"dataframe\">\n",
              "  <thead>\n",
              "    <tr style=\"text-align: right;\">\n",
              "      <th></th>\n",
              "      <th>event</th>\n",
              "      <th>user</th>\n",
              "      <th>timestamp</th>\n",
              "      <th>exp_id</th>\n",
              "      <th>date_time</th>\n",
              "    </tr>\n",
              "  </thead>\n",
              "  <tbody>\n",
              "    <tr>\n",
              "      <th>0</th>\n",
              "      <td>MainScreenAppear</td>\n",
              "      <td>4575588528974610257</td>\n",
              "      <td>1564029816</td>\n",
              "      <td>246</td>\n",
              "      <td>2019-07-25 04:43:36</td>\n",
              "    </tr>\n",
              "    <tr>\n",
              "      <th>1</th>\n",
              "      <td>MainScreenAppear</td>\n",
              "      <td>7416695313311560658</td>\n",
              "      <td>1564053102</td>\n",
              "      <td>246</td>\n",
              "      <td>2019-07-25 11:11:42</td>\n",
              "    </tr>\n",
              "    <tr>\n",
              "      <th>2</th>\n",
              "      <td>PaymentScreenSuccessful</td>\n",
              "      <td>3518123091307005509</td>\n",
              "      <td>1564054127</td>\n",
              "      <td>248</td>\n",
              "      <td>2019-07-25 11:28:47</td>\n",
              "    </tr>\n",
              "    <tr>\n",
              "      <th>3</th>\n",
              "      <td>CartScreenAppear</td>\n",
              "      <td>3518123091307005509</td>\n",
              "      <td>1564054127</td>\n",
              "      <td>248</td>\n",
              "      <td>2019-07-25 11:28:47</td>\n",
              "    </tr>\n",
              "    <tr>\n",
              "      <th>4</th>\n",
              "      <td>PaymentScreenSuccessful</td>\n",
              "      <td>6217807653094995999</td>\n",
              "      <td>1564055322</td>\n",
              "      <td>248</td>\n",
              "      <td>2019-07-25 11:48:42</td>\n",
              "    </tr>\n",
              "  </tbody>\n",
              "</table>\n",
              "</div>"
            ],
            "text/plain": [
              "                     event                 user   timestamp  exp_id  \\\n",
              "0         MainScreenAppear  4575588528974610257  1564029816     246   \n",
              "1         MainScreenAppear  7416695313311560658  1564053102     246   \n",
              "2  PaymentScreenSuccessful  3518123091307005509  1564054127     248   \n",
              "3         CartScreenAppear  3518123091307005509  1564054127     248   \n",
              "4  PaymentScreenSuccessful  6217807653094995999  1564055322     248   \n",
              "\n",
              "            date_time  \n",
              "0 2019-07-25 04:43:36  \n",
              "1 2019-07-25 11:11:42  \n",
              "2 2019-07-25 11:28:47  \n",
              "3 2019-07-25 11:28:47  \n",
              "4 2019-07-25 11:48:42  "
            ]
          },
          "execution_count": 13,
          "metadata": {},
          "output_type": "execute_result"
        }
      ],
      "execution_count": 13
    },
    {
      "cell_type": "markdown",
      "source": "### Tambahkan kolom tanggal dan waktu, serta satu kolom terpisah untuk tanggal.",
      "metadata": {}
    },
    {
      "cell_type": "code",
      "source": "# Tambahkan kolom terpisah untuk tanggal saja\ndata['date'] = data['date_time'].dt.floor('1D')",
      "metadata": {},
      "outputs": [],
      "execution_count": 14
    },
    {
      "cell_type": "code",
      "source": "# cek tipe datanya\ndata.dtypes",
      "metadata": {},
      "outputs": [
        {
          "data": {
            "text/plain": [
              "event                object\n",
              "user                  int64\n",
              "timestamp             int64\n",
              "exp_id                int64\n",
              "date_time    datetime64[ns]\n",
              "date         datetime64[ns]\n",
              "dtype: object"
            ]
          },
          "execution_count": 15,
          "metadata": {},
          "output_type": "execute_result"
        }
      ],
      "execution_count": 15
    },
    {
      "cell_type": "code",
      "source": "data['date_time'].dt.date",
      "metadata": {},
      "outputs": [
        {
          "data": {
            "text/plain": [
              "0         2019-07-25\n",
              "1         2019-07-25\n",
              "2         2019-07-25\n",
              "3         2019-07-25\n",
              "4         2019-07-25\n",
              "             ...    \n",
              "243708    2019-08-07\n",
              "243709    2019-08-07\n",
              "243710    2019-08-07\n",
              "243711    2019-08-07\n",
              "243712    2019-08-07\n",
              "Name: date_time, Length: 243713, dtype: object"
            ]
          },
          "execution_count": 16,
          "metadata": {},
          "output_type": "execute_result"
        }
      ],
      "execution_count": 16
    },
    {
      "cell_type": "code",
      "source": "# cek datanya\ndata.head()",
      "metadata": {},
      "outputs": [
        {
          "data": {
            "text/html": [
              "<div>\n",
              "<style scoped>\n",
              "    .dataframe tbody tr th:only-of-type {\n",
              "        vertical-align: middle;\n",
              "    }\n",
              "\n",
              "    .dataframe tbody tr th {\n",
              "        vertical-align: top;\n",
              "    }\n",
              "\n",
              "    .dataframe thead th {\n",
              "        text-align: right;\n",
              "    }\n",
              "</style>\n",
              "<table border=\"1\" class=\"dataframe\">\n",
              "  <thead>\n",
              "    <tr style=\"text-align: right;\">\n",
              "      <th></th>\n",
              "      <th>event</th>\n",
              "      <th>user</th>\n",
              "      <th>timestamp</th>\n",
              "      <th>exp_id</th>\n",
              "      <th>date_time</th>\n",
              "      <th>date</th>\n",
              "    </tr>\n",
              "  </thead>\n",
              "  <tbody>\n",
              "    <tr>\n",
              "      <th>0</th>\n",
              "      <td>MainScreenAppear</td>\n",
              "      <td>4575588528974610257</td>\n",
              "      <td>1564029816</td>\n",
              "      <td>246</td>\n",
              "      <td>2019-07-25 04:43:36</td>\n",
              "      <td>2019-07-25</td>\n",
              "    </tr>\n",
              "    <tr>\n",
              "      <th>1</th>\n",
              "      <td>MainScreenAppear</td>\n",
              "      <td>7416695313311560658</td>\n",
              "      <td>1564053102</td>\n",
              "      <td>246</td>\n",
              "      <td>2019-07-25 11:11:42</td>\n",
              "      <td>2019-07-25</td>\n",
              "    </tr>\n",
              "    <tr>\n",
              "      <th>2</th>\n",
              "      <td>PaymentScreenSuccessful</td>\n",
              "      <td>3518123091307005509</td>\n",
              "      <td>1564054127</td>\n",
              "      <td>248</td>\n",
              "      <td>2019-07-25 11:28:47</td>\n",
              "      <td>2019-07-25</td>\n",
              "    </tr>\n",
              "    <tr>\n",
              "      <th>3</th>\n",
              "      <td>CartScreenAppear</td>\n",
              "      <td>3518123091307005509</td>\n",
              "      <td>1564054127</td>\n",
              "      <td>248</td>\n",
              "      <td>2019-07-25 11:28:47</td>\n",
              "      <td>2019-07-25</td>\n",
              "    </tr>\n",
              "    <tr>\n",
              "      <th>4</th>\n",
              "      <td>PaymentScreenSuccessful</td>\n",
              "      <td>6217807653094995999</td>\n",
              "      <td>1564055322</td>\n",
              "      <td>248</td>\n",
              "      <td>2019-07-25 11:48:42</td>\n",
              "      <td>2019-07-25</td>\n",
              "    </tr>\n",
              "  </tbody>\n",
              "</table>\n",
              "</div>"
            ],
            "text/plain": [
              "                     event                 user   timestamp  exp_id  \\\n",
              "0         MainScreenAppear  4575588528974610257  1564029816     246   \n",
              "1         MainScreenAppear  7416695313311560658  1564053102     246   \n",
              "2  PaymentScreenSuccessful  3518123091307005509  1564054127     248   \n",
              "3         CartScreenAppear  3518123091307005509  1564054127     248   \n",
              "4  PaymentScreenSuccessful  6217807653094995999  1564055322     248   \n",
              "\n",
              "            date_time       date  \n",
              "0 2019-07-25 04:43:36 2019-07-25  \n",
              "1 2019-07-25 11:11:42 2019-07-25  \n",
              "2 2019-07-25 11:28:47 2019-07-25  \n",
              "3 2019-07-25 11:28:47 2019-07-25  \n",
              "4 2019-07-25 11:48:42 2019-07-25  "
            ]
          },
          "execution_count": 17,
          "metadata": {},
          "output_type": "execute_result"
        }
      ],
      "execution_count": 17
    },
    {
      "cell_type": "markdown",
      "source": "**Kesimpulan Sementara**\n\n* Nama kolom telah dirubah menjadi lebih sederhana\n* Duplikasi data telah dihapus\n* Terdapat dua kolom baru untuk mempresentasikan tanggal dan waktu\n* Tipe data pada semua kolom telah sesuai",
      "metadata": {}
    },
    {
      "cell_type": "markdown",
      "source": "## Langkah 3 : Pelajari dan periksa datanya",
      "metadata": {}
    },
    {
      "cell_type": "markdown",
      "source": "### Berapa banyak peristiwa yang tercatat dalam log?",
      "metadata": {}
    },
    {
      "cell_type": "code",
      "source": "# mencari banyak nya peristiwa dengan mencari banyak baris dalam dataset\nevents = len(data)\nprint(f'{events} events')",
      "metadata": {},
      "outputs": [
        {
          "name": "stdout",
          "output_type": "stream",
          "text": [
            "243713 events\n"
          ]
        }
      ],
      "execution_count": 18
    },
    {
      "cell_type": "code",
      "source": "data.shape[0]",
      "metadata": {},
      "outputs": [
        {
          "data": {
            "text/plain": [
              "243713"
            ]
          },
          "execution_count": 19,
          "metadata": {},
          "output_type": "execute_result"
        }
      ],
      "execution_count": 19
    },
    {
      "cell_type": "markdown",
      "source": "* Terdapat 243.713 peristiwa yang tercatat dalam dataset",
      "metadata": {}
    },
    {
      "cell_type": "markdown",
      "source": "### Berapa banyak pengguna yang tercatat dalam log?",
      "metadata": {}
    },
    {
      "cell_type": "code",
      "source": "# mencari banyak nya pengguna d dalam dataset\nusers = len(data['user'].unique())\nprint(f'{users} users')",
      "metadata": {},
      "outputs": [
        {
          "name": "stdout",
          "output_type": "stream",
          "text": [
            "7551 users\n"
          ]
        }
      ],
      "execution_count": 20
    },
    {
      "cell_type": "code",
      "source": "data['user'].nunique()",
      "metadata": {},
      "outputs": [
        {
          "data": {
            "text/plain": [
              "7551"
            ]
          },
          "execution_count": 21,
          "metadata": {},
          "output_type": "execute_result"
        }
      ],
      "execution_count": 21
    },
    {
      "cell_type": "markdown",
      "source": "* Terdapat 7.551 pengguna yang tercatat dalam dataset",
      "metadata": {}
    },
    {
      "cell_type": "markdown",
      "source": "### Berapa jumlah rata-rata peristiwa per pengguna?",
      "metadata": {}
    },
    {
      "cell_type": "code",
      "source": "# rata-rata peristiwa per pengguna\nevents_per_user = events / users\nprint(f'{round(events_per_user,0)} events_per_user')",
      "metadata": {},
      "outputs": [
        {
          "name": "stdout",
          "output_type": "stream",
          "text": [
            "32.0 events_per_user\n"
          ]
        }
      ],
      "execution_count": 22
    },
    {
      "cell_type": "code",
      "source": "# jumlah kejadian pada setiap peristiwa \ndata['event'].value_counts()",
      "metadata": {
        "scrolled": true
      },
      "outputs": [
        {
          "data": {
            "text/plain": [
              "MainScreenAppear           119101\n",
              "OffersScreenAppear          46808\n",
              "CartScreenAppear            42668\n",
              "PaymentScreenSuccessful     34118\n",
              "Tutorial                     1018\n",
              "Name: event, dtype: int64"
            ]
          },
          "execution_count": 23,
          "metadata": {},
          "output_type": "execute_result"
        }
      ],
      "execution_count": 23
    },
    {
      "cell_type": "code",
      "source": "# menghitung jumlah peristiwa untuk setiap device_id_hash\njumlah_peristiwa_per_device = data['user'].value_counts()\n\n#menghitung rata-rata peristiwa per pengguna\nrata2_peristiwa = jumlah_peristiwa_per_device.mean()\nrata2_peristiwa",
      "metadata": {},
      "outputs": [
        {
          "data": {
            "text/plain": [
              "32.27559263673685"
            ]
          },
          "execution_count": 24,
          "metadata": {},
          "output_type": "execute_result"
        }
      ],
      "execution_count": 24
    },
    {
      "cell_type": "markdown",
      "source": "* Berdasarkan perhitungan diatas, terdapat 32 peristiwa setiap pengguna yang tercatat dalam dataset",
      "metadata": {}
    },
    {
      "cell_type": "markdown",
      "source": "### Periode waktu mana yang dicakup oleh data? Temukan tanggal maksimum dan minimumnya. Buat sebuah histogram berdasarkan tanggal dan waktu. Bisakah kamu memastikan bahwa data yang kamu miliki sama lengkapnya untuk seluruh periode? Peristiwa terdahulu bisa saja muncul dalam log beberapa pengguna karena alasan teknis dan ini bisa mengacaukan distribusi data secara keseluruhan. Temukan momen ketika data mulai dirasa lengkap dan abaikan data lama tersebut. Periode mana yang benar-benar diwakili oleh data yang kamu miliki?",
      "metadata": {}
    },
    {
      "cell_type": "code",
      "source": "# Cari tanggal maksimum dan minimumnya\nprint(data['date_time'].min())\nprint(data['date_time'].max())",
      "metadata": {},
      "outputs": [
        {
          "name": "stdout",
          "output_type": "stream",
          "text": [
            "2019-07-25 04:43:36\n",
            "2019-08-07 21:15:17\n"
          ]
        }
      ],
      "execution_count": 25
    },
    {
      "cell_type": "code",
      "source": "# histogram berdasarkan waktu\ndata['date_time'].hist(bins=100, figsize=(14,5))\nplt.show()",
      "metadata": {},
      "outputs": [
        {
          "data": {
            "image/png": "[encoded data removed]",
            "text/plain": [
              "<Figure size 1008x360 with 1 Axes>"
            ]
          },
          "metadata": {
            "needs_background": "light"
          },
          "output_type": "display_data"
        }
      ],
      "execution_count": 26
    },
    {
      "cell_type": "code",
      "source": "# mencari data lama\ndata.pivot_table(index='date',values='user',aggfunc='count')",
      "metadata": {},
      "outputs": [
        {
          "data": {
            "text/html": [
              "<div>\n",
              "<style scoped>\n",
              "    .dataframe tbody tr th:only-of-type {\n",
              "        vertical-align: middle;\n",
              "    }\n",
              "\n",
              "    .dataframe tbody tr th {\n",
              "        vertical-align: top;\n",
              "    }\n",
              "\n",
              "    .dataframe thead th {\n",
              "        text-align: right;\n",
              "    }\n",
              "</style>\n",
              "<table border=\"1\" class=\"dataframe\">\n",
              "  <thead>\n",
              "    <tr style=\"text-align: right;\">\n",
              "      <th></th>\n",
              "      <th>user</th>\n",
              "    </tr>\n",
              "    <tr>\n",
              "      <th>date</th>\n",
              "      <th></th>\n",
              "    </tr>\n",
              "  </thead>\n",
              "  <tbody>\n",
              "    <tr>\n",
              "      <th>2019-07-25</th>\n",
              "      <td>9</td>\n",
              "    </tr>\n",
              "    <tr>\n",
              "      <th>2019-07-26</th>\n",
              "      <td>31</td>\n",
              "    </tr>\n",
              "    <tr>\n",
              "      <th>2019-07-27</th>\n",
              "      <td>55</td>\n",
              "    </tr>\n",
              "    <tr>\n",
              "      <th>2019-07-28</th>\n",
              "      <td>105</td>\n",
              "    </tr>\n",
              "    <tr>\n",
              "      <th>2019-07-29</th>\n",
              "      <td>184</td>\n",
              "    </tr>\n",
              "    <tr>\n",
              "      <th>2019-07-30</th>\n",
              "      <td>412</td>\n",
              "    </tr>\n",
              "    <tr>\n",
              "      <th>2019-07-31</th>\n",
              "      <td>2030</td>\n",
              "    </tr>\n",
              "    <tr>\n",
              "      <th>2019-08-01</th>\n",
              "      <td>36141</td>\n",
              "    </tr>\n",
              "    <tr>\n",
              "      <th>2019-08-02</th>\n",
              "      <td>35554</td>\n",
              "    </tr>\n",
              "    <tr>\n",
              "      <th>2019-08-03</th>\n",
              "      <td>33282</td>\n",
              "    </tr>\n",
              "    <tr>\n",
              "      <th>2019-08-04</th>\n",
              "      <td>32968</td>\n",
              "    </tr>\n",
              "    <tr>\n",
              "      <th>2019-08-05</th>\n",
              "      <td>36058</td>\n",
              "    </tr>\n",
              "    <tr>\n",
              "      <th>2019-08-06</th>\n",
              "      <td>35788</td>\n",
              "    </tr>\n",
              "    <tr>\n",
              "      <th>2019-08-07</th>\n",
              "      <td>31096</td>\n",
              "    </tr>\n",
              "  </tbody>\n",
              "</table>\n",
              "</div>"
            ],
            "text/plain": [
              "             user\n",
              "date             \n",
              "2019-07-25      9\n",
              "2019-07-26     31\n",
              "2019-07-27     55\n",
              "2019-07-28    105\n",
              "2019-07-29    184\n",
              "2019-07-30    412\n",
              "2019-07-31   2030\n",
              "2019-08-01  36141\n",
              "2019-08-02  35554\n",
              "2019-08-03  33282\n",
              "2019-08-04  32968\n",
              "2019-08-05  36058\n",
              "2019-08-06  35788\n",
              "2019-08-07  31096"
            ]
          },
          "execution_count": 27,
          "metadata": {},
          "output_type": "execute_result"
        }
      ],
      "execution_count": 27
    },
    {
      "cell_type": "code",
      "source": "# tampilkan histogram dari agregasi data\ndata.pivot_table(index='date',values='user',aggfunc='count').plot(style='o-', grid=True)\nplt.show()",
      "metadata": {
        "scrolled": true
      },
      "outputs": [
        {
          "data": {
            "image/png": "[encoded data removed]",
            "text/plain": [
              "<Figure size 432x288 with 1 Axes>"
            ]
          },
          "metadata": {
            "needs_background": "light"
          },
          "output_type": "display_data"
        }
      ],
      "execution_count": 28
    },
    {
      "cell_type": "code",
      "source": "# filter data, abaikan data sebelum tanggal 1 agustus\ndata_filtered = data.query('date_time > \"2019-07-31 21:00\"')\ndata_filtered.head()",
      "metadata": {},
      "outputs": [
        {
          "data": {
            "text/html": [
              "<div>\n",
              "<style scoped>\n",
              "    .dataframe tbody tr th:only-of-type {\n",
              "        vertical-align: middle;\n",
              "    }\n",
              "\n",
              "    .dataframe tbody tr th {\n",
              "        vertical-align: top;\n",
              "    }\n",
              "\n",
              "    .dataframe thead th {\n",
              "        text-align: right;\n",
              "    }\n",
              "</style>\n",
              "<table border=\"1\" class=\"dataframe\">\n",
              "  <thead>\n",
              "    <tr style=\"text-align: right;\">\n",
              "      <th></th>\n",
              "      <th>event</th>\n",
              "      <th>user</th>\n",
              "      <th>timestamp</th>\n",
              "      <th>exp_id</th>\n",
              "      <th>date_time</th>\n",
              "      <th>date</th>\n",
              "    </tr>\n",
              "  </thead>\n",
              "  <tbody>\n",
              "    <tr>\n",
              "      <th>1989</th>\n",
              "      <td>MainScreenAppear</td>\n",
              "      <td>7701922487875823903</td>\n",
              "      <td>1564606857</td>\n",
              "      <td>247</td>\n",
              "      <td>2019-07-31 21:00:57</td>\n",
              "      <td>2019-07-31</td>\n",
              "    </tr>\n",
              "    <tr>\n",
              "      <th>1990</th>\n",
              "      <td>MainScreenAppear</td>\n",
              "      <td>2539077412200498909</td>\n",
              "      <td>1564606905</td>\n",
              "      <td>247</td>\n",
              "      <td>2019-07-31 21:01:45</td>\n",
              "      <td>2019-07-31</td>\n",
              "    </tr>\n",
              "    <tr>\n",
              "      <th>1991</th>\n",
              "      <td>OffersScreenAppear</td>\n",
              "      <td>3286987355161301427</td>\n",
              "      <td>1564606941</td>\n",
              "      <td>248</td>\n",
              "      <td>2019-07-31 21:02:21</td>\n",
              "      <td>2019-07-31</td>\n",
              "    </tr>\n",
              "    <tr>\n",
              "      <th>1992</th>\n",
              "      <td>OffersScreenAppear</td>\n",
              "      <td>3187166762535343300</td>\n",
              "      <td>1564606943</td>\n",
              "      <td>247</td>\n",
              "      <td>2019-07-31 21:02:23</td>\n",
              "      <td>2019-07-31</td>\n",
              "    </tr>\n",
              "    <tr>\n",
              "      <th>1993</th>\n",
              "      <td>MainScreenAppear</td>\n",
              "      <td>1118952406011435924</td>\n",
              "      <td>1564607005</td>\n",
              "      <td>248</td>\n",
              "      <td>2019-07-31 21:03:25</td>\n",
              "      <td>2019-07-31</td>\n",
              "    </tr>\n",
              "  </tbody>\n",
              "</table>\n",
              "</div>"
            ],
            "text/plain": [
              "                   event                 user   timestamp  exp_id  \\\n",
              "1989    MainScreenAppear  7701922487875823903  1564606857     247   \n",
              "1990    MainScreenAppear  2539077412200498909  1564606905     247   \n",
              "1991  OffersScreenAppear  3286987355161301427  1564606941     248   \n",
              "1992  OffersScreenAppear  3187166762535343300  1564606943     247   \n",
              "1993    MainScreenAppear  1118952406011435924  1564607005     248   \n",
              "\n",
              "               date_time       date  \n",
              "1989 2019-07-31 21:00:57 2019-07-31  \n",
              "1990 2019-07-31 21:01:45 2019-07-31  \n",
              "1991 2019-07-31 21:02:21 2019-07-31  \n",
              "1992 2019-07-31 21:02:23 2019-07-31  \n",
              "1993 2019-07-31 21:03:25 2019-07-31  "
            ]
          },
          "execution_count": 29,
          "metadata": {},
          "output_type": "execute_result"
        }
      ],
      "execution_count": 29
    },
    {
      "cell_type": "code",
      "source": "# cek perbedaan jumlah baris data\ndata.shape, data_filtered.shape",
      "metadata": {},
      "outputs": [
        {
          "data": {
            "text/plain": [
              "((243713, 6), (241724, 6))"
            ]
          },
          "execution_count": 30,
          "metadata": {},
          "output_type": "execute_result"
        }
      ],
      "execution_count": 30
    },
    {
      "cell_type": "code",
      "source": "(243713 - 241724) / 243713 * 100",
      "metadata": {},
      "outputs": [
        {
          "data": {
            "text/plain": [
              "0.8161238834202524"
            ]
          },
          "execution_count": 31,
          "metadata": {},
          "output_type": "execute_result"
        }
      ],
      "execution_count": 31
    },
    {
      "cell_type": "code",
      "source": "(244126 - 242136) / 244126 * 100",
      "metadata": {},
      "outputs": [
        {
          "data": {
            "text/plain": [
              "0.8151528309151831"
            ]
          },
          "execution_count": 32,
          "metadata": {},
          "output_type": "execute_result"
        }
      ],
      "execution_count": 32
    },
    {
      "cell_type": "code",
      "source": "# buat histogram periode waktu nya setelah data di filter\ndata_filtered['date_time'].hist(bins=100, figsize=(14,5))\nplt.show()",
      "metadata": {},
      "outputs": [
        {
          "data": {
            "image/png": "[encoded data removed]",
            "text/plain": [
              "<Figure size 1008x360 with 1 Axes>"
            ]
          },
          "metadata": {
            "needs_background": "light"
          },
          "output_type": "display_data"
        }
      ],
      "execution_count": 33
    },
    {
      "cell_type": "code",
      "source": "# Jumlah peristiwa, pengguna dan rata-rata peristiwa per pengguna setelah data di filter\nevents = len(data_filtered)\nusers = len(data_filtered['user'].unique())\nevents_per_user = events / users\nprint(f'{events} events')\nprint(f'{users} users')\nprint(f'{events_per_user} events_per_user')",
      "metadata": {},
      "outputs": [
        {
          "name": "stdout",
          "output_type": "stream",
          "text": [
            "241724 events\n",
            "7538 users\n",
            "32.06739188113558 events_per_user\n"
          ]
        }
      ],
      "execution_count": 34
    },
    {
      "cell_type": "markdown",
      "source": "**Kesimpulan Sementara**\n\n* Data telah di filter, dengan mengabaikan dan menghapus data terdahulu, sehingga kita memiliki periode waktu dari 1 Agustus 2019 hingga 7 Agustus 2019",
      "metadata": {}
    },
    {
      "cell_type": "markdown",
      "source": "### Apakah kamu kehilangan banyak peristiwa dan pengguna saat menyingkirkan data lama?",
      "metadata": {}
    },
    {
      "cell_type": "code",
      "source": "(data.shape[0] - data_filtered.shape[0]) / data.shape[0] * 100",
      "metadata": {},
      "outputs": [
        {
          "data": {
            "text/plain": [
              "0.8161238834202524"
            ]
          },
          "execution_count": 35,
          "metadata": {},
          "output_type": "execute_result"
        }
      ],
      "execution_count": 35
    },
    {
      "cell_type": "markdown",
      "source": "* Berdasarkan perhitungan diatas, data yang hilang dibawah 1%, artinya data yang hilang tidak banyak dan tidak berpengaruh ketika menyingkirkan data lama.",
      "metadata": {}
    },
    {
      "cell_type": "markdown",
      "source": "### Pastikan kamu memiliki pengguna dari ketiga kelompok eksperimen.",
      "metadata": {}
    },
    {
      "cell_type": "code",
      "source": "# jumlah pengguna pada masing-masing kelompok\ndata_filtered['exp_id'].value_counts()",
      "metadata": {},
      "outputs": [
        {
          "data": {
            "text/plain": [
              "248    84875\n",
              "246    79556\n",
              "247    77293\n",
              "Name: exp_id, dtype: int64"
            ]
          },
          "execution_count": 36,
          "metadata": {},
          "output_type": "execute_result"
        }
      ],
      "execution_count": 36
    },
    {
      "cell_type": "markdown",
      "source": "* Kelompok 248 adalah kelompok paling banyak yang memiliki jumlah pengguna\n* Kelompok 247 adalah kelompok paling sedikit yang memiliki jumlah pengguna",
      "metadata": {}
    },
    {
      "cell_type": "markdown",
      "source": "## Langkah 4 : Pelajari funnel peristiwanya",
      "metadata": {}
    },
    {
      "cell_type": "markdown",
      "source": "### Lihat peristiwa apa saja yang ada dalam log dan berapa banyak frekuensi kemunculannya. Urutkan peristiwa tersebut berdasarkan frekuensi.",
      "metadata": {}
    },
    {
      "cell_type": "code",
      "source": "# banyak frekuensi kemunculan pada setiap peristiwa menggunakan pivot table\ndata_filtered.pivot_table(index='event',\n                          values='timestamp', \n                          aggfunc='count').sort_values('timestamp', ascending=False)",
      "metadata": {},
      "outputs": [
        {
          "data": {
            "text/html": [
              "<div>\n",
              "<style scoped>\n",
              "    .dataframe tbody tr th:only-of-type {\n",
              "        vertical-align: middle;\n",
              "    }\n",
              "\n",
              "    .dataframe tbody tr th {\n",
              "        vertical-align: top;\n",
              "    }\n",
              "\n",
              "    .dataframe thead th {\n",
              "        text-align: right;\n",
              "    }\n",
              "</style>\n",
              "<table border=\"1\" class=\"dataframe\">\n",
              "  <thead>\n",
              "    <tr style=\"text-align: right;\">\n",
              "      <th></th>\n",
              "      <th>timestamp</th>\n",
              "    </tr>\n",
              "    <tr>\n",
              "      <th>event</th>\n",
              "      <th></th>\n",
              "    </tr>\n",
              "  </thead>\n",
              "  <tbody>\n",
              "    <tr>\n",
              "      <th>MainScreenAppear</th>\n",
              "      <td>117889</td>\n",
              "    </tr>\n",
              "    <tr>\n",
              "      <th>OffersScreenAppear</th>\n",
              "      <td>46531</td>\n",
              "    </tr>\n",
              "    <tr>\n",
              "      <th>CartScreenAppear</th>\n",
              "      <td>42343</td>\n",
              "    </tr>\n",
              "    <tr>\n",
              "      <th>PaymentScreenSuccessful</th>\n",
              "      <td>33951</td>\n",
              "    </tr>\n",
              "    <tr>\n",
              "      <th>Tutorial</th>\n",
              "      <td>1010</td>\n",
              "    </tr>\n",
              "  </tbody>\n",
              "</table>\n",
              "</div>"
            ],
            "text/plain": [
              "                         timestamp\n",
              "event                             \n",
              "MainScreenAppear            117889\n",
              "OffersScreenAppear           46531\n",
              "CartScreenAppear             42343\n",
              "PaymentScreenSuccessful      33951\n",
              "Tutorial                      1010"
            ]
          },
          "execution_count": 37,
          "metadata": {},
          "output_type": "execute_result"
        }
      ],
      "execution_count": 37
    },
    {
      "cell_type": "code",
      "source": "# banyak frekuensi kemunculan pada setiap peristiwa menggunakan groupby\ndata_filtered.groupby(['event'])['user'].count().sort_values(ascending=False).reset_index()",
      "metadata": {},
      "outputs": [
        {
          "data": {
            "text/html": [
              "<div>\n",
              "<style scoped>\n",
              "    .dataframe tbody tr th:only-of-type {\n",
              "        vertical-align: middle;\n",
              "    }\n",
              "\n",
              "    .dataframe tbody tr th {\n",
              "        vertical-align: top;\n",
              "    }\n",
              "\n",
              "    .dataframe thead th {\n",
              "        text-align: right;\n",
              "    }\n",
              "</style>\n",
              "<table border=\"1\" class=\"dataframe\">\n",
              "  <thead>\n",
              "    <tr style=\"text-align: right;\">\n",
              "      <th></th>\n",
              "      <th>event</th>\n",
              "      <th>user</th>\n",
              "    </tr>\n",
              "  </thead>\n",
              "  <tbody>\n",
              "    <tr>\n",
              "      <th>0</th>\n",
              "      <td>MainScreenAppear</td>\n",
              "      <td>117889</td>\n",
              "    </tr>\n",
              "    <tr>\n",
              "      <th>1</th>\n",
              "      <td>OffersScreenAppear</td>\n",
              "      <td>46531</td>\n",
              "    </tr>\n",
              "    <tr>\n",
              "      <th>2</th>\n",
              "      <td>CartScreenAppear</td>\n",
              "      <td>42343</td>\n",
              "    </tr>\n",
              "    <tr>\n",
              "      <th>3</th>\n",
              "      <td>PaymentScreenSuccessful</td>\n",
              "      <td>33951</td>\n",
              "    </tr>\n",
              "    <tr>\n",
              "      <th>4</th>\n",
              "      <td>Tutorial</td>\n",
              "      <td>1010</td>\n",
              "    </tr>\n",
              "  </tbody>\n",
              "</table>\n",
              "</div>"
            ],
            "text/plain": [
              "                     event    user\n",
              "0         MainScreenAppear  117889\n",
              "1       OffersScreenAppear   46531\n",
              "2         CartScreenAppear   42343\n",
              "3  PaymentScreenSuccessful   33951\n",
              "4                 Tutorial    1010"
            ]
          },
          "execution_count": 38,
          "metadata": {},
          "output_type": "execute_result"
        }
      ],
      "execution_count": 38
    },
    {
      "cell_type": "code",
      "source": "# banyak frekuensi kemunculan pada setiap peristiwa menggunakan value_counts\ndata_filtered['event'].value_counts()",
      "metadata": {},
      "outputs": [
        {
          "data": {
            "text/plain": [
              "MainScreenAppear           117889\n",
              "OffersScreenAppear          46531\n",
              "CartScreenAppear            42343\n",
              "PaymentScreenSuccessful     33951\n",
              "Tutorial                     1010\n",
              "Name: event, dtype: int64"
            ]
          },
          "execution_count": 39,
          "metadata": {},
          "output_type": "execute_result"
        }
      ],
      "execution_count": 39
    },
    {
      "cell_type": "markdown",
      "source": "* MainScreenAppear menjadi peristiwa paling banyak frekuensi kemunculannya\n* Tutorial menjadi peristiwa paling sedikit frekuensi kemunculannya",
      "metadata": {}
    },
    {
      "cell_type": "markdown",
      "source": "### Temukan jumlah pengguna yang melakukan setiap tindakan. Urutkan peristiwa berdasarkan jumlah pengguna. Hitung proporsi pengguna yang melakukan tindakan setidaknya satu kali.",
      "metadata": {}
    },
    {
      "cell_type": "code",
      "source": "# Jumlah pengguna yang melakukan setiap tindakan\nusers_per_event = (\n    data_filtered\n    .pivot_table(index='event', values='user', aggfunc='nunique')\n    .sort_values('user', ascending=False)\n)\nusers_per_event",
      "metadata": {},
      "outputs": [
        {
          "data": {
            "text/html": [
              "<div>\n",
              "<style scoped>\n",
              "    .dataframe tbody tr th:only-of-type {\n",
              "        vertical-align: middle;\n",
              "    }\n",
              "\n",
              "    .dataframe tbody tr th {\n",
              "        vertical-align: top;\n",
              "    }\n",
              "\n",
              "    .dataframe thead th {\n",
              "        text-align: right;\n",
              "    }\n",
              "</style>\n",
              "<table border=\"1\" class=\"dataframe\">\n",
              "  <thead>\n",
              "    <tr style=\"text-align: right;\">\n",
              "      <th></th>\n",
              "      <th>user</th>\n",
              "    </tr>\n",
              "    <tr>\n",
              "      <th>event</th>\n",
              "      <th></th>\n",
              "    </tr>\n",
              "  </thead>\n",
              "  <tbody>\n",
              "    <tr>\n",
              "      <th>MainScreenAppear</th>\n",
              "      <td>7423</td>\n",
              "    </tr>\n",
              "    <tr>\n",
              "      <th>OffersScreenAppear</th>\n",
              "      <td>4597</td>\n",
              "    </tr>\n",
              "    <tr>\n",
              "      <th>CartScreenAppear</th>\n",
              "      <td>3736</td>\n",
              "    </tr>\n",
              "    <tr>\n",
              "      <th>PaymentScreenSuccessful</th>\n",
              "      <td>3540</td>\n",
              "    </tr>\n",
              "    <tr>\n",
              "      <th>Tutorial</th>\n",
              "      <td>843</td>\n",
              "    </tr>\n",
              "  </tbody>\n",
              "</table>\n",
              "</div>"
            ],
            "text/plain": [
              "                         user\n",
              "event                        \n",
              "MainScreenAppear         7423\n",
              "OffersScreenAppear       4597\n",
              "CartScreenAppear         3736\n",
              "PaymentScreenSuccessful  3540\n",
              "Tutorial                  843"
            ]
          },
          "execution_count": 40,
          "metadata": {},
          "output_type": "execute_result"
        }
      ],
      "execution_count": 40
    },
    {
      "cell_type": "code",
      "source": "# Jumlah pengguna pada dataset yang telah di filter\ndata_filtered['user'].nunique()",
      "metadata": {},
      "outputs": [
        {
          "data": {
            "text/plain": [
              "7538"
            ]
          },
          "execution_count": 41,
          "metadata": {},
          "output_type": "execute_result"
        }
      ],
      "execution_count": 41
    },
    {
      "cell_type": "code",
      "source": "# Rasio Jumlah pengguna yang melakukan setiap tindakan dengan total pengguna pada dataset yang telah di filter\nusers_per_event / data_filtered['user'].nunique()",
      "metadata": {},
      "outputs": [
        {
          "data": {
            "text/html": [
              "<div>\n",
              "<style scoped>\n",
              "    .dataframe tbody tr th:only-of-type {\n",
              "        vertical-align: middle;\n",
              "    }\n",
              "\n",
              "    .dataframe tbody tr th {\n",
              "        vertical-align: top;\n",
              "    }\n",
              "\n",
              "    .dataframe thead th {\n",
              "        text-align: right;\n",
              "    }\n",
              "</style>\n",
              "<table border=\"1\" class=\"dataframe\">\n",
              "  <thead>\n",
              "    <tr style=\"text-align: right;\">\n",
              "      <th></th>\n",
              "      <th>user</th>\n",
              "    </tr>\n",
              "    <tr>\n",
              "      <th>event</th>\n",
              "      <th></th>\n",
              "    </tr>\n",
              "  </thead>\n",
              "  <tbody>\n",
              "    <tr>\n",
              "      <th>MainScreenAppear</th>\n",
              "      <td>0.984744</td>\n",
              "    </tr>\n",
              "    <tr>\n",
              "      <th>OffersScreenAppear</th>\n",
              "      <td>0.609843</td>\n",
              "    </tr>\n",
              "    <tr>\n",
              "      <th>CartScreenAppear</th>\n",
              "      <td>0.495622</td>\n",
              "    </tr>\n",
              "    <tr>\n",
              "      <th>PaymentScreenSuccessful</th>\n",
              "      <td>0.469621</td>\n",
              "    </tr>\n",
              "    <tr>\n",
              "      <th>Tutorial</th>\n",
              "      <td>0.111833</td>\n",
              "    </tr>\n",
              "  </tbody>\n",
              "</table>\n",
              "</div>"
            ],
            "text/plain": [
              "                             user\n",
              "event                            \n",
              "MainScreenAppear         0.984744\n",
              "OffersScreenAppear       0.609843\n",
              "CartScreenAppear         0.495622\n",
              "PaymentScreenSuccessful  0.469621\n",
              "Tutorial                 0.111833"
            ]
          },
          "execution_count": 42,
          "metadata": {},
          "output_type": "execute_result"
        }
      ],
      "execution_count": 42
    },
    {
      "cell_type": "markdown",
      "source": "* Hampir 98% atau sebagian besar pengguna melakukan peristiwa MainScreenAppear, peristiwa selain itu hanya berikisar dibawah 61%\n* Tutorial adalah peristiwa yang paling sedikit diakses oleh pengguna",
      "metadata": {}
    },
    {
      "cell_type": "markdown",
      "source": "### Menurutmu, dalam urutan apa tindakan-tindakan tersebut terjadi? Apakah semuanya merupakan bagian dari satu urutan? Kamu tidak perlu memperhitungkan semuanya saat menghitung funnel.",
      "metadata": {}
    },
    {
      "cell_type": "markdown",
      "source": "Berdasarkan perhitungan diatas, kita dapat mengasumsikan urutan tindakan yang mungkin terjadi adalah: \n* MainScreenAppear -> OffersScreenAppear -> CartScreenAppear -> PaymentScreenSuccessful.\nTutorial kemungkinan besar terjadi setelah langkah-langkah tersebut, tetapi hanya kemungkinan kecil. \n\nNamun, perlu diingat bahwa urutan diatas hanya estimasi berdasarkan probabilitas dari perhitungan diatas, dan tidak ada informasi langsung tentang urutan waktu antar peristiwa. \n\nSelain itu, tidak semua peristiwa harus terjadi dalam urutan ini, karena beberapa pengguna mungkin memilih untuk melompati tutorial atau beralih layar tanpa melihat tawaran.",
      "metadata": {}
    },
    {
      "cell_type": "markdown",
      "source": "### Gunakan funnel peristiwa untuk menemukan persentase pengguna yang terus berlanjut dari satu tahap ke tahap berikutnya. (Misalnya, untuk urutan peristiwa A → B → C, hitung rasio pengguna pada tahap B terhadap jumlah pengguna pada tahap A, serta rasio pengguna pada tahap C terhadap jumlah pengguna pada tahap B).",
      "metadata": {}
    },
    {
      "cell_type": "code",
      "source": "# cek datanya\nusers_per_event",
      "metadata": {},
      "outputs": [
        {
          "data": {
            "text/html": [
              "<div>\n",
              "<style scoped>\n",
              "    .dataframe tbody tr th:only-of-type {\n",
              "        vertical-align: middle;\n",
              "    }\n",
              "\n",
              "    .dataframe tbody tr th {\n",
              "        vertical-align: top;\n",
              "    }\n",
              "\n",
              "    .dataframe thead th {\n",
              "        text-align: right;\n",
              "    }\n",
              "</style>\n",
              "<table border=\"1\" class=\"dataframe\">\n",
              "  <thead>\n",
              "    <tr style=\"text-align: right;\">\n",
              "      <th></th>\n",
              "      <th>user</th>\n",
              "    </tr>\n",
              "    <tr>\n",
              "      <th>event</th>\n",
              "      <th></th>\n",
              "    </tr>\n",
              "  </thead>\n",
              "  <tbody>\n",
              "    <tr>\n",
              "      <th>MainScreenAppear</th>\n",
              "      <td>7423</td>\n",
              "    </tr>\n",
              "    <tr>\n",
              "      <th>OffersScreenAppear</th>\n",
              "      <td>4597</td>\n",
              "    </tr>\n",
              "    <tr>\n",
              "      <th>CartScreenAppear</th>\n",
              "      <td>3736</td>\n",
              "    </tr>\n",
              "    <tr>\n",
              "      <th>PaymentScreenSuccessful</th>\n",
              "      <td>3540</td>\n",
              "    </tr>\n",
              "    <tr>\n",
              "      <th>Tutorial</th>\n",
              "      <td>843</td>\n",
              "    </tr>\n",
              "  </tbody>\n",
              "</table>\n",
              "</div>"
            ],
            "text/plain": [
              "                         user\n",
              "event                        \n",
              "MainScreenAppear         7423\n",
              "OffersScreenAppear       4597\n",
              "CartScreenAppear         3736\n",
              "PaymentScreenSuccessful  3540\n",
              "Tutorial                  843"
            ]
          },
          "execution_count": 43,
          "metadata": {},
          "output_type": "execute_result"
        }
      ],
      "execution_count": 43
    },
    {
      "cell_type": "code",
      "source": "# hilangkan event tutorial karena bukan bagian dari urutan peristiwa\nusers_funnel = users_per_event[:-1]\n# users_funnel = {users_funnel / users_funnel.shift()[1:]}\nusers_funnel",
      "metadata": {},
      "outputs": [
        {
          "data": {
            "text/html": [
              "<div>\n",
              "<style scoped>\n",
              "    .dataframe tbody tr th:only-of-type {\n",
              "        vertical-align: middle;\n",
              "    }\n",
              "\n",
              "    .dataframe tbody tr th {\n",
              "        vertical-align: top;\n",
              "    }\n",
              "\n",
              "    .dataframe thead th {\n",
              "        text-align: right;\n",
              "    }\n",
              "</style>\n",
              "<table border=\"1\" class=\"dataframe\">\n",
              "  <thead>\n",
              "    <tr style=\"text-align: right;\">\n",
              "      <th></th>\n",
              "      <th>user</th>\n",
              "    </tr>\n",
              "    <tr>\n",
              "      <th>event</th>\n",
              "      <th></th>\n",
              "    </tr>\n",
              "  </thead>\n",
              "  <tbody>\n",
              "    <tr>\n",
              "      <th>MainScreenAppear</th>\n",
              "      <td>7423</td>\n",
              "    </tr>\n",
              "    <tr>\n",
              "      <th>OffersScreenAppear</th>\n",
              "      <td>4597</td>\n",
              "    </tr>\n",
              "    <tr>\n",
              "      <th>CartScreenAppear</th>\n",
              "      <td>3736</td>\n",
              "    </tr>\n",
              "    <tr>\n",
              "      <th>PaymentScreenSuccessful</th>\n",
              "      <td>3540</td>\n",
              "    </tr>\n",
              "  </tbody>\n",
              "</table>\n",
              "</div>"
            ],
            "text/plain": [
              "                         user\n",
              "event                        \n",
              "MainScreenAppear         7423\n",
              "OffersScreenAppear       4597\n",
              "CartScreenAppear         3736\n",
              "PaymentScreenSuccessful  3540"
            ]
          },
          "execution_count": 44,
          "metadata": {},
          "output_type": "execute_result"
        }
      ],
      "execution_count": 44
    },
    {
      "cell_type": "code",
      "source": "# keluarkan (shift) kolom pertama\nusers_funnel.shift()",
      "metadata": {},
      "outputs": [
        {
          "data": {
            "text/html": [
              "<div>\n",
              "<style scoped>\n",
              "    .dataframe tbody tr th:only-of-type {\n",
              "        vertical-align: middle;\n",
              "    }\n",
              "\n",
              "    .dataframe tbody tr th {\n",
              "        vertical-align: top;\n",
              "    }\n",
              "\n",
              "    .dataframe thead th {\n",
              "        text-align: right;\n",
              "    }\n",
              "</style>\n",
              "<table border=\"1\" class=\"dataframe\">\n",
              "  <thead>\n",
              "    <tr style=\"text-align: right;\">\n",
              "      <th></th>\n",
              "      <th>user</th>\n",
              "    </tr>\n",
              "    <tr>\n",
              "      <th>event</th>\n",
              "      <th></th>\n",
              "    </tr>\n",
              "  </thead>\n",
              "  <tbody>\n",
              "    <tr>\n",
              "      <th>MainScreenAppear</th>\n",
              "      <td>NaN</td>\n",
              "    </tr>\n",
              "    <tr>\n",
              "      <th>OffersScreenAppear</th>\n",
              "      <td>7423.0</td>\n",
              "    </tr>\n",
              "    <tr>\n",
              "      <th>CartScreenAppear</th>\n",
              "      <td>4597.0</td>\n",
              "    </tr>\n",
              "    <tr>\n",
              "      <th>PaymentScreenSuccessful</th>\n",
              "      <td>3736.0</td>\n",
              "    </tr>\n",
              "  </tbody>\n",
              "</table>\n",
              "</div>"
            ],
            "text/plain": [
              "                           user\n",
              "event                          \n",
              "MainScreenAppear            NaN\n",
              "OffersScreenAppear       7423.0\n",
              "CartScreenAppear         4597.0\n",
              "PaymentScreenSuccessful  3736.0"
            ]
          },
          "execution_count": 45,
          "metadata": {},
          "output_type": "execute_result"
        }
      ],
      "execution_count": 45
    },
    {
      "cell_type": "code",
      "source": "# isi kolom mainscreenappear dengan angka 1, karena pasti user kebanyakan memulai dari event MainScreenAppear\n(users_funnel / users_funnel.shift()).fillna(1)",
      "metadata": {},
      "outputs": [
        {
          "data": {
            "text/html": [
              "<div>\n",
              "<style scoped>\n",
              "    .dataframe tbody tr th:only-of-type {\n",
              "        vertical-align: middle;\n",
              "    }\n",
              "\n",
              "    .dataframe tbody tr th {\n",
              "        vertical-align: top;\n",
              "    }\n",
              "\n",
              "    .dataframe thead th {\n",
              "        text-align: right;\n",
              "    }\n",
              "</style>\n",
              "<table border=\"1\" class=\"dataframe\">\n",
              "  <thead>\n",
              "    <tr style=\"text-align: right;\">\n",
              "      <th></th>\n",
              "      <th>user</th>\n",
              "    </tr>\n",
              "    <tr>\n",
              "      <th>event</th>\n",
              "      <th></th>\n",
              "    </tr>\n",
              "  </thead>\n",
              "  <tbody>\n",
              "    <tr>\n",
              "      <th>MainScreenAppear</th>\n",
              "      <td>1.000000</td>\n",
              "    </tr>\n",
              "    <tr>\n",
              "      <th>OffersScreenAppear</th>\n",
              "      <td>0.619291</td>\n",
              "    </tr>\n",
              "    <tr>\n",
              "      <th>CartScreenAppear</th>\n",
              "      <td>0.812704</td>\n",
              "    </tr>\n",
              "    <tr>\n",
              "      <th>PaymentScreenSuccessful</th>\n",
              "      <td>0.947537</td>\n",
              "    </tr>\n",
              "  </tbody>\n",
              "</table>\n",
              "</div>"
            ],
            "text/plain": [
              "                             user\n",
              "event                            \n",
              "MainScreenAppear         1.000000\n",
              "OffersScreenAppear       0.619291\n",
              "CartScreenAppear         0.812704\n",
              "PaymentScreenSuccessful  0.947537"
            ]
          },
          "execution_count": 46,
          "metadata": {},
          "output_type": "execute_result"
        }
      ],
      "execution_count": 46
    },
    {
      "cell_type": "code",
      "source": "users_funnel",
      "metadata": {},
      "outputs": [
        {
          "data": {
            "text/html": [
              "<div>\n",
              "<style scoped>\n",
              "    .dataframe tbody tr th:only-of-type {\n",
              "        vertical-align: middle;\n",
              "    }\n",
              "\n",
              "    .dataframe tbody tr th {\n",
              "        vertical-align: top;\n",
              "    }\n",
              "\n",
              "    .dataframe thead th {\n",
              "        text-align: right;\n",
              "    }\n",
              "</style>\n",
              "<table border=\"1\" class=\"dataframe\">\n",
              "  <thead>\n",
              "    <tr style=\"text-align: right;\">\n",
              "      <th></th>\n",
              "      <th>user</th>\n",
              "    </tr>\n",
              "    <tr>\n",
              "      <th>event</th>\n",
              "      <th></th>\n",
              "    </tr>\n",
              "  </thead>\n",
              "  <tbody>\n",
              "    <tr>\n",
              "      <th>MainScreenAppear</th>\n",
              "      <td>7423</td>\n",
              "    </tr>\n",
              "    <tr>\n",
              "      <th>OffersScreenAppear</th>\n",
              "      <td>4597</td>\n",
              "    </tr>\n",
              "    <tr>\n",
              "      <th>CartScreenAppear</th>\n",
              "      <td>3736</td>\n",
              "    </tr>\n",
              "    <tr>\n",
              "      <th>PaymentScreenSuccessful</th>\n",
              "      <td>3540</td>\n",
              "    </tr>\n",
              "  </tbody>\n",
              "</table>\n",
              "</div>"
            ],
            "text/plain": [
              "                         user\n",
              "event                        \n",
              "MainScreenAppear         7423\n",
              "OffersScreenAppear       4597\n",
              "CartScreenAppear         3736\n",
              "PaymentScreenSuccessful  3540"
            ]
          },
          "execution_count": 47,
          "metadata": {},
          "output_type": "execute_result"
        }
      ],
      "execution_count": 47
    },
    {
      "cell_type": "code",
      "source": "# Rasio peristiwa OffersScreenAppear terhadap MainScreenAppear\n4597 / 7423",
      "metadata": {},
      "outputs": [
        {
          "data": {
            "text/plain": [
              "0.6192913916206385"
            ]
          },
          "execution_count": 48,
          "metadata": {},
          "output_type": "execute_result"
        }
      ],
      "execution_count": 48
    },
    {
      "cell_type": "code",
      "source": "# Rasio peristiwa CartScreenAppear terhadap OffersScreenAppear\n3736 / 4597",
      "metadata": {},
      "outputs": [
        {
          "data": {
            "text/plain": [
              "0.812703937350446"
            ]
          },
          "execution_count": 49,
          "metadata": {},
          "output_type": "execute_result"
        }
      ],
      "execution_count": 49
    },
    {
      "cell_type": "code",
      "source": "# Rasio peristiwa PaymentScreenSuccessful terhadap CartScreenAppear\n3540 / 3736",
      "metadata": {},
      "outputs": [
        {
          "data": {
            "text/plain": [
              "0.9475374732334048"
            ]
          },
          "execution_count": 50,
          "metadata": {},
          "output_type": "execute_result"
        }
      ],
      "execution_count": 50
    },
    {
      "cell_type": "markdown",
      "source": "* Rasio paling tinggi adalah Rasio peristiwa PaymentScreenSuccessful terhadap CartScreenAppear\n* Rasio paling rendah adalah Rasio peristiwa OffersScreenAppear terhadap MainScreenAppear",
      "metadata": {}
    },
    {
      "cell_type": "markdown",
      "source": "### Pada tahap mana kamu kehilangan banyak pengguna?",
      "metadata": {}
    },
    {
      "cell_type": "markdown",
      "source": "Dari perbandingan di atas, kehilangan pengguna terbesar terjadi pada langkah dari \"MainScreenAppear\" ke \"OffersScreenAppear\" dengan perbandingan sekitar 0.619. \n\nArtinya, sekitar 38.1% (1 - 0.619291) dari pengguna yang melihat layar utama tidak melanjutkan ke layar tawaran.\n\nJadi, pada tahap dari MainScreenAppear ke OffersScreenAppear adalah di mana kehilangan pengguna terbesar terjadi dalam funnel.",
      "metadata": {}
    },
    {
      "cell_type": "markdown",
      "source": "### Berapa banyak persentase pengguna yang berhasil menyelesaikan seluruh tahapan yang ada, dari peristiwa pertama hingga pembayaran? ",
      "metadata": {}
    },
    {
      "cell_type": "code",
      "source": "((users_per_event.loc['PaymentScreenSuccessful'] / users_per_event.loc['MainScreenAppear'])['user'])",
      "metadata": {},
      "outputs": [
        {
          "data": {
            "text/plain": [
              "0.47689613363869054"
            ]
          },
          "execution_count": 51,
          "metadata": {},
          "output_type": "execute_result"
        }
      ],
      "execution_count": 51
    },
    {
      "cell_type": "code",
      "source": "3540 / 7423 * 100",
      "metadata": {},
      "outputs": [
        {
          "data": {
            "text/plain": [
              "47.68961336386906"
            ]
          },
          "execution_count": 52,
          "metadata": {},
          "output_type": "execute_result"
        }
      ],
      "execution_count": 52
    },
    {
      "cell_type": "markdown",
      "source": "* Jadi, sekitar 47.69% dari pengguna yang memulai dari peristiwa pertama (MainScreenAppear) berhasil menyelesaikan seluruh tahapan hingga mencapai pembayaran (PaymentScreenSuccessful).",
      "metadata": {}
    },
    {
      "cell_type": "markdown",
      "source": "## Langkah 5. Pelajari hasil eksperimenmu (Uji Hipotesis)",
      "metadata": {}
    },
    {
      "cell_type": "markdown",
      "source": "### Berapa banyak pengguna yang ada di setiap kelompok?",
      "metadata": {}
    },
    {
      "cell_type": "code",
      "source": "# banyak pengguna setiap kelompok menggunakan pivot table\nusers_per_group = (\n    data_filtered\n    .pivot_table(index='exp_id', values='user', aggfunc='nunique')\n)\nusers_per_group",
      "metadata": {},
      "outputs": [
        {
          "data": {
            "text/html": [
              "<div>\n",
              "<style scoped>\n",
              "    .dataframe tbody tr th:only-of-type {\n",
              "        vertical-align: middle;\n",
              "    }\n",
              "\n",
              "    .dataframe tbody tr th {\n",
              "        vertical-align: top;\n",
              "    }\n",
              "\n",
              "    .dataframe thead th {\n",
              "        text-align: right;\n",
              "    }\n",
              "</style>\n",
              "<table border=\"1\" class=\"dataframe\">\n",
              "  <thead>\n",
              "    <tr style=\"text-align: right;\">\n",
              "      <th></th>\n",
              "      <th>user</th>\n",
              "    </tr>\n",
              "    <tr>\n",
              "      <th>exp_id</th>\n",
              "      <th></th>\n",
              "    </tr>\n",
              "  </thead>\n",
              "  <tbody>\n",
              "    <tr>\n",
              "      <th>246</th>\n",
              "      <td>2484</td>\n",
              "    </tr>\n",
              "    <tr>\n",
              "      <th>247</th>\n",
              "      <td>2517</td>\n",
              "    </tr>\n",
              "    <tr>\n",
              "      <th>248</th>\n",
              "      <td>2537</td>\n",
              "    </tr>\n",
              "  </tbody>\n",
              "</table>\n",
              "</div>"
            ],
            "text/plain": [
              "        user\n",
              "exp_id      \n",
              "246     2484\n",
              "247     2517\n",
              "248     2537"
            ]
          },
          "execution_count": 53,
          "metadata": {},
          "output_type": "execute_result"
        }
      ],
      "execution_count": 53
    },
    {
      "cell_type": "code",
      "source": "# banyak pengguna setiap kelompok menggunakan groupby\ndata_filtered.groupby(['exp_id'])['user'].nunique().reset_index()",
      "metadata": {},
      "outputs": [
        {
          "data": {
            "text/html": [
              "<div>\n",
              "<style scoped>\n",
              "    .dataframe tbody tr th:only-of-type {\n",
              "        vertical-align: middle;\n",
              "    }\n",
              "\n",
              "    .dataframe tbody tr th {\n",
              "        vertical-align: top;\n",
              "    }\n",
              "\n",
              "    .dataframe thead th {\n",
              "        text-align: right;\n",
              "    }\n",
              "</style>\n",
              "<table border=\"1\" class=\"dataframe\">\n",
              "  <thead>\n",
              "    <tr style=\"text-align: right;\">\n",
              "      <th></th>\n",
              "      <th>exp_id</th>\n",
              "      <th>user</th>\n",
              "    </tr>\n",
              "  </thead>\n",
              "  <tbody>\n",
              "    <tr>\n",
              "      <th>0</th>\n",
              "      <td>246</td>\n",
              "      <td>2484</td>\n",
              "    </tr>\n",
              "    <tr>\n",
              "      <th>1</th>\n",
              "      <td>247</td>\n",
              "      <td>2517</td>\n",
              "    </tr>\n",
              "    <tr>\n",
              "      <th>2</th>\n",
              "      <td>248</td>\n",
              "      <td>2537</td>\n",
              "    </tr>\n",
              "  </tbody>\n",
              "</table>\n",
              "</div>"
            ],
            "text/plain": [
              "   exp_id  user\n",
              "0     246  2484\n",
              "1     247  2517\n",
              "2     248  2537"
            ]
          },
          "execution_count": 54,
          "metadata": {},
          "output_type": "execute_result"
        }
      ],
      "execution_count": 54
    },
    {
      "cell_type": "markdown",
      "source": "* Banyak nya pengguna setiap kelompok tidak terlalu jauh perbedaan jumlahnya",
      "metadata": {}
    },
    {
      "cell_type": "markdown",
      "source": "### Kita memiliki dua kelompok kontrol dalam A/A testing di mana kita memeriksa mekanisme dan perhitungan kita. Perhatikan apakah ada perbedaan yang signifikan secara statistik antara sampel 246 dan 247.",
      "metadata": {}
    },
    {
      "cell_type": "code",
      "source": "# Kelompok kontrol A/A Testing yang pertama, sampel 246\ndata_filtered[data_filtered['exp_id']==246]['event'].value_counts()",
      "metadata": {},
      "outputs": [
        {
          "data": {
            "text/plain": [
              "MainScreenAppear           37855\n",
              "OffersScreenAppear         14829\n",
              "CartScreenAppear           14697\n",
              "PaymentScreenSuccessful    11858\n",
              "Tutorial                     317\n",
              "Name: event, dtype: int64"
            ]
          },
          "execution_count": 55,
          "metadata": {},
          "output_type": "execute_result"
        }
      ],
      "execution_count": 55
    },
    {
      "cell_type": "code",
      "source": "# Kelompok kontrol A/A Testing yang kedua, sampel 247\ndata_filtered[data_filtered['exp_id']==247]['event'].value_counts()",
      "metadata": {},
      "outputs": [
        {
          "data": {
            "text/plain": [
              "MainScreenAppear           39294\n",
              "OffersScreenAppear         15237\n",
              "CartScreenAppear           12439\n",
              "PaymentScreenSuccessful     9983\n",
              "Tutorial                     340\n",
              "Name: event, dtype: int64"
            ]
          },
          "execution_count": 56,
          "metadata": {},
          "output_type": "execute_result"
        }
      ],
      "execution_count": 56
    },
    {
      "cell_type": "markdown",
      "source": "* Berdasarkan data diatas, tidak ada perbedaan yang signifikan secara statistik antara sampel 246 dan 247",
      "metadata": {}
    },
    {
      "cell_type": "markdown",
      "source": "### Pilih peristiwa yang paling populer. Pada setiap kelompok kontrol, temukan jumlah pengguna yang melakukan tindakan tersebut. Temukan persentasenya. Periksa apakah perbedaan antar kelompok signifikan secara statistik. Ulangi prosedur ini untuk semua peristiwa lainnya (akan menghemat waktu jika kamu bisa menciptakan sebuah fungsi khusus untuk melakukan pengujian ini). Bisakah kamu memastikan apakah kelompok-kelompok tersebut sudah dipisah dengan benar?",
      "metadata": {}
    },
    {
      "cell_type": "code",
      "source": "# H0: Tidak ada perbedaan signifikan antara kelompok kontrol 246 dan 247 terkait frekuensi peristiwa \"MainScreenAppear.\n# H1: Ada perbedaan signifikan antara kelompok kontrol 246 dan 247 terkait frekuensi peristiwa \"MainScreenAppear.\n# peristiwa populer --> MainScreenAppear           \n\n# buat tabel baru untuk melihat jumlah pengguna setiap kelompok pada setiap peristiwa\nusers_events_per_group = data_filtered.pivot_table(index='event',\n                                                   values='user', \n                                                   columns='exp_id', \n                                                    aggfunc='nunique').sort_values(by=246, ascending=False)\nusers_events_per_group",
      "metadata": {},
      "outputs": [
        {
          "data": {
            "text/html": [
              "<div>\n",
              "<style scoped>\n",
              "    .dataframe tbody tr th:only-of-type {\n",
              "        vertical-align: middle;\n",
              "    }\n",
              "\n",
              "    .dataframe tbody tr th {\n",
              "        vertical-align: top;\n",
              "    }\n",
              "\n",
              "    .dataframe thead th {\n",
              "        text-align: right;\n",
              "    }\n",
              "</style>\n",
              "<table border=\"1\" class=\"dataframe\">\n",
              "  <thead>\n",
              "    <tr style=\"text-align: right;\">\n",
              "      <th>exp_id</th>\n",
              "      <th>246</th>\n",
              "      <th>247</th>\n",
              "      <th>248</th>\n",
              "    </tr>\n",
              "    <tr>\n",
              "      <th>event</th>\n",
              "      <th></th>\n",
              "      <th></th>\n",
              "      <th></th>\n",
              "    </tr>\n",
              "  </thead>\n",
              "  <tbody>\n",
              "    <tr>\n",
              "      <th>MainScreenAppear</th>\n",
              "      <td>2450</td>\n",
              "      <td>2479</td>\n",
              "      <td>2494</td>\n",
              "    </tr>\n",
              "    <tr>\n",
              "      <th>OffersScreenAppear</th>\n",
              "      <td>1542</td>\n",
              "      <td>1524</td>\n",
              "      <td>1531</td>\n",
              "    </tr>\n",
              "    <tr>\n",
              "      <th>CartScreenAppear</th>\n",
              "      <td>1266</td>\n",
              "      <td>1239</td>\n",
              "      <td>1231</td>\n",
              "    </tr>\n",
              "    <tr>\n",
              "      <th>PaymentScreenSuccessful</th>\n",
              "      <td>1200</td>\n",
              "      <td>1158</td>\n",
              "      <td>1182</td>\n",
              "    </tr>\n",
              "    <tr>\n",
              "      <th>Tutorial</th>\n",
              "      <td>278</td>\n",
              "      <td>284</td>\n",
              "      <td>281</td>\n",
              "    </tr>\n",
              "  </tbody>\n",
              "</table>\n",
              "</div>"
            ],
            "text/plain": [
              "exp_id                    246   247   248\n",
              "event                                    \n",
              "MainScreenAppear         2450  2479  2494\n",
              "OffersScreenAppear       1542  1524  1531\n",
              "CartScreenAppear         1266  1239  1231\n",
              "PaymentScreenSuccessful  1200  1158  1182\n",
              "Tutorial                  278   284   281"
            ]
          },
          "execution_count": 57,
          "metadata": {},
          "output_type": "execute_result"
        }
      ],
      "execution_count": 57
    },
    {
      "cell_type": "code",
      "source": "# cek jumlah user per kelompok\nusers_per_group",
      "metadata": {
        "scrolled": true
      },
      "outputs": [
        {
          "data": {
            "text/html": [
              "<div>\n",
              "<style scoped>\n",
              "    .dataframe tbody tr th:only-of-type {\n",
              "        vertical-align: middle;\n",
              "    }\n",
              "\n",
              "    .dataframe tbody tr th {\n",
              "        vertical-align: top;\n",
              "    }\n",
              "\n",
              "    .dataframe thead th {\n",
              "        text-align: right;\n",
              "    }\n",
              "</style>\n",
              "<table border=\"1\" class=\"dataframe\">\n",
              "  <thead>\n",
              "    <tr style=\"text-align: right;\">\n",
              "      <th></th>\n",
              "      <th>user</th>\n",
              "    </tr>\n",
              "    <tr>\n",
              "      <th>exp_id</th>\n",
              "      <th></th>\n",
              "    </tr>\n",
              "  </thead>\n",
              "  <tbody>\n",
              "    <tr>\n",
              "      <th>246</th>\n",
              "      <td>2484</td>\n",
              "    </tr>\n",
              "    <tr>\n",
              "      <th>247</th>\n",
              "      <td>2517</td>\n",
              "    </tr>\n",
              "    <tr>\n",
              "      <th>248</th>\n",
              "      <td>2537</td>\n",
              "    </tr>\n",
              "  </tbody>\n",
              "</table>\n",
              "</div>"
            ],
            "text/plain": [
              "        user\n",
              "exp_id      \n",
              "246     2484\n",
              "247     2517\n",
              "248     2537"
            ]
          },
          "execution_count": 58,
          "metadata": {},
          "output_type": "execute_result"
        }
      ],
      "execution_count": 58
    },
    {
      "cell_type": "code",
      "source": "# trials exp id 246 2483 unique users\n# succes main screen exp id 246 2450 unique users\n# trials > succes\n\nusers_events_per_group.loc['MainScreenAppear', 246]",
      "metadata": {},
      "outputs": [
        {
          "data": {
            "text/plain": [
              "2450"
            ]
          },
          "execution_count": 59,
          "metadata": {},
          "output_type": "execute_result"
        }
      ],
      "execution_count": 59
    },
    {
      "cell_type": "code",
      "source": "users_per_group.loc[246]",
      "metadata": {},
      "outputs": [
        {
          "data": {
            "text/plain": [
              "user    2484\n",
              "Name: 246, dtype: int64"
            ]
          },
          "execution_count": 60,
          "metadata": {},
          "output_type": "execute_result"
        }
      ],
      "execution_count": 60
    },
    {
      "cell_type": "code",
      "source": "# buat function untuk cek hypotesis\ndef check_hypothesis(successes1, successes2, trials1, trials2, alpha=0.1):\n    # proportion of successes in the first group:\n    p1 = successes1/trials1\n\n    # proportion of successes in the first group:\n    p2 = successes2/trials2\n\n    # proportion of successes in the combined dataset:\n    p_combined = (successes1 + successes2) / (trials1 + trials2)\n\n    # difference in proportions in datasets\n    difference = p1 - p2\n\n    # calculate statistics in standart deviation of the standard normal distribution\n    z_value = difference / math.sqrt(p_combined * (1 - p_combined) * (1/trials1 + 1/trials2))\n\n    # set standard normal distribution (mean 0, standard deviation 1)\n    distr = stats.norm(0, 1)\n\n    # calculate statistics in standard deviations of the standard normal distribution\n    z_value = difference / math.sqrt(p_combined * (1 - p_combined) * (1/trials1 + 1/trials2))\n\n    p_value = (1 - distr.cdf(abs(z_value))) * 2\n\n    print('p-value: ', p_value)\n\n    if (p_value < alpha):\n        print(\"Menolak hipotesis 0: terdapat perbedaan yang signifikan antara kedua kelompok\")\n    else:\n        print(\"Gagal menolak hipotesis 0, tidak terdapat perbedaan yang signifikan antara kedua kelompok\")",
      "metadata": {},
      "outputs": [],
      "execution_count": 61
    },
    {
      "cell_type": "code",
      "source": "users_events_per_group",
      "metadata": {},
      "outputs": [
        {
          "data": {
            "text/html": [
              "<div>\n",
              "<style scoped>\n",
              "    .dataframe tbody tr th:only-of-type {\n",
              "        vertical-align: middle;\n",
              "    }\n",
              "\n",
              "    .dataframe tbody tr th {\n",
              "        vertical-align: top;\n",
              "    }\n",
              "\n",
              "    .dataframe thead th {\n",
              "        text-align: right;\n",
              "    }\n",
              "</style>\n",
              "<table border=\"1\" class=\"dataframe\">\n",
              "  <thead>\n",
              "    <tr style=\"text-align: right;\">\n",
              "      <th>exp_id</th>\n",
              "      <th>246</th>\n",
              "      <th>247</th>\n",
              "      <th>248</th>\n",
              "    </tr>\n",
              "    <tr>\n",
              "      <th>event</th>\n",
              "      <th></th>\n",
              "      <th></th>\n",
              "      <th></th>\n",
              "    </tr>\n",
              "  </thead>\n",
              "  <tbody>\n",
              "    <tr>\n",
              "      <th>MainScreenAppear</th>\n",
              "      <td>2450</td>\n",
              "      <td>2479</td>\n",
              "      <td>2494</td>\n",
              "    </tr>\n",
              "    <tr>\n",
              "      <th>OffersScreenAppear</th>\n",
              "      <td>1542</td>\n",
              "      <td>1524</td>\n",
              "      <td>1531</td>\n",
              "    </tr>\n",
              "    <tr>\n",
              "      <th>CartScreenAppear</th>\n",
              "      <td>1266</td>\n",
              "      <td>1239</td>\n",
              "      <td>1231</td>\n",
              "    </tr>\n",
              "    <tr>\n",
              "      <th>PaymentScreenSuccessful</th>\n",
              "      <td>1200</td>\n",
              "      <td>1158</td>\n",
              "      <td>1182</td>\n",
              "    </tr>\n",
              "    <tr>\n",
              "      <th>Tutorial</th>\n",
              "      <td>278</td>\n",
              "      <td>284</td>\n",
              "      <td>281</td>\n",
              "    </tr>\n",
              "  </tbody>\n",
              "</table>\n",
              "</div>"
            ],
            "text/plain": [
              "exp_id                    246   247   248\n",
              "event                                    \n",
              "MainScreenAppear         2450  2479  2494\n",
              "OffersScreenAppear       1542  1524  1531\n",
              "CartScreenAppear         1266  1239  1231\n",
              "PaymentScreenSuccessful  1200  1158  1182\n",
              "Tutorial                  278   284   281"
            ]
          },
          "execution_count": 62,
          "metadata": {},
          "output_type": "execute_result"
        }
      ],
      "execution_count": 62
    },
    {
      "cell_type": "code",
      "source": "users_per_group",
      "metadata": {},
      "outputs": [
        {
          "data": {
            "text/html": [
              "<div>\n",
              "<style scoped>\n",
              "    .dataframe tbody tr th:only-of-type {\n",
              "        vertical-align: middle;\n",
              "    }\n",
              "\n",
              "    .dataframe tbody tr th {\n",
              "        vertical-align: top;\n",
              "    }\n",
              "\n",
              "    .dataframe thead th {\n",
              "        text-align: right;\n",
              "    }\n",
              "</style>\n",
              "<table border=\"1\" class=\"dataframe\">\n",
              "  <thead>\n",
              "    <tr style=\"text-align: right;\">\n",
              "      <th></th>\n",
              "      <th>user</th>\n",
              "    </tr>\n",
              "    <tr>\n",
              "      <th>exp_id</th>\n",
              "      <th></th>\n",
              "    </tr>\n",
              "  </thead>\n",
              "  <tbody>\n",
              "    <tr>\n",
              "      <th>246</th>\n",
              "      <td>2484</td>\n",
              "    </tr>\n",
              "    <tr>\n",
              "      <th>247</th>\n",
              "      <td>2517</td>\n",
              "    </tr>\n",
              "    <tr>\n",
              "      <th>248</th>\n",
              "      <td>2537</td>\n",
              "    </tr>\n",
              "  </tbody>\n",
              "</table>\n",
              "</div>"
            ],
            "text/plain": [
              "        user\n",
              "exp_id      \n",
              "246     2484\n",
              "247     2517\n",
              "248     2537"
            ]
          },
          "execution_count": 63,
          "metadata": {},
          "output_type": "execute_result"
        }
      ],
      "execution_count": 63
    },
    {
      "cell_type": "code",
      "source": "# jalan kan function yang telah dibuat\ncheck_hypothesis(users_events_per_group.loc['MainScreenAppear', 246],\n                 users_events_per_group.loc['MainScreenAppear', 247],\n                 users_per_group.loc[246],\n                 users_per_group.loc[247])",
      "metadata": {},
      "outputs": [
        {
          "name": "stdout",
          "output_type": "stream",
          "text": [
            "p-value:  [0.67562177]\n",
            "Gagal menolak hipotesis 0, tidak terdapat perbedaan yang signifikan antara kedua kelompok\n"
          ]
        }
      ],
      "execution_count": 64
    },
    {
      "cell_type": "code",
      "source": "# buat function lagi untuk cek hypotesis setiap event\ndef check_event_hypothesis(users_events_per_group, users_per_group, event, exp1, exp2):\n    frac1 = users_events_per_group.loc[event, exp1] / users_per_group.loc[exp1]\n    frac2 = users_events_per_group.loc[event, exp2] / users_per_group.loc[exp2]\n    print(f'event {event} group {exp1}')\n    print(f'event {event} group {exp2}')\n    check_hypothesis(users_events_per_group.loc[event, exp1], \n                     users_events_per_group.loc[event, exp2], \n                     users_per_group.loc[exp1], \n                     users_per_group.loc[exp2])",
      "metadata": {},
      "outputs": [],
      "execution_count": 65
    },
    {
      "cell_type": "code",
      "source": "# Kelompok 246 (A) dan 247 (A)\nfor event in users_events_per_group.index:\n    check_event_hypothesis(users_events_per_group, users_per_group, event, 246, 247)\n    print('===========================================================')",
      "metadata": {},
      "outputs": [
        {
          "name": "stdout",
          "output_type": "stream",
          "text": [
            "event MainScreenAppear group 246\n",
            "event MainScreenAppear group 247\n",
            "p-value:  [0.67562177]\n",
            "Gagal menolak hipotesis 0, tidak terdapat perbedaan yang signifikan antara kedua kelompok\n",
            "===========================================================\n",
            "event OffersScreenAppear group 246\n",
            "event OffersScreenAppear group 247\n",
            "p-value:  [0.26698769]\n",
            "Gagal menolak hipotesis 0, tidak terdapat perbedaan yang signifikan antara kedua kelompok\n",
            "===========================================================\n",
            "event CartScreenAppear group 246\n",
            "event CartScreenAppear group 247\n",
            "p-value:  [0.21828121]\n",
            "Gagal menolak hipotesis 0, tidak terdapat perbedaan yang signifikan antara kedua kelompok\n",
            "===========================================================\n",
            "event PaymentScreenSuccessful group 246\n",
            "event PaymentScreenSuccessful group 247\n",
            "p-value:  [0.10298395]\n",
            "Gagal menolak hipotesis 0, tidak terdapat perbedaan yang signifikan antara kedua kelompok\n",
            "===========================================================\n",
            "event Tutorial group 246\n",
            "event Tutorial group 247\n",
            "p-value:  [0.91827903]\n",
            "Gagal menolak hipotesis 0, tidak terdapat perbedaan yang signifikan antara kedua kelompok\n",
            "===========================================================\n"
          ]
        }
      ],
      "execution_count": 66
    },
    {
      "cell_type": "markdown",
      "source": "* Berdasarkan uji coba hipotesis diatas dengan alpha 0.1, tidak ada perbedaan yang signifikan antara kelompok 246 (A) dan 247 (A), artinya tidak ada perbedaan yang signifikan dalam penggunaan font lama untuk keseluruhan aplikasi",
      "metadata": {}
    },
    {
      "cell_type": "markdown",
      "source": "### Lakukan hal yang sama untuk kelompok pengguna yang diperlihatkan versi font terbaru. Bandingkan hasilnya dengan masing-masing kelompok kontrol untuk setiap peristiwa secara terpisah. Bandingkan hasilnya dengan hasil gabungan untuk kelompok kontrol. Nah, kesimpulan apa yang bisa kamu tarik dari eksperimen tersebut?",
      "metadata": {}
    },
    {
      "cell_type": "code",
      "source": "# Kelompok 246 (A) dan 248 (B)\n# Kelompok 247 (A) dan 248 (B)\n# Kelompok 246+247 (A) dan 248 (B)\n\n# Kelompok 246 (A) dan 248 (B)\nfor event in users_events_per_group.index:\n    check_event_hypothesis(users_events_per_group, users_per_group, event, 246, 248)\n    print('=====================================')",
      "metadata": {},
      "outputs": [
        {
          "name": "stdout",
          "output_type": "stream",
          "text": [
            "event MainScreenAppear group 246\n",
            "event MainScreenAppear group 248\n",
            "p-value:  [0.34705881]\n",
            "Gagal menolak hipotesis 0, tidak terdapat perbedaan yang signifikan antara kedua kelompok\n",
            "=====================================\n",
            "event OffersScreenAppear group 246\n",
            "event OffersScreenAppear group 248\n",
            "p-value:  [0.20836205]\n",
            "Gagal menolak hipotesis 0, tidak terdapat perbedaan yang signifikan antara kedua kelompok\n",
            "=====================================\n",
            "event CartScreenAppear group 246\n",
            "event CartScreenAppear group 248\n",
            "p-value:  [0.08328413]\n",
            "Menolak hipotesis 0: terdapat perbedaan yang signifikan antara kedua kelompok\n",
            "=====================================\n",
            "event PaymentScreenSuccessful group 246\n",
            "event PaymentScreenSuccessful group 248\n",
            "p-value:  [0.22269359]\n",
            "Gagal menolak hipotesis 0, tidak terdapat perbedaan yang signifikan antara kedua kelompok\n",
            "=====================================\n",
            "event Tutorial group 246\n",
            "event Tutorial group 248\n",
            "p-value:  [0.89644896]\n",
            "Gagal menolak hipotesis 0, tidak terdapat perbedaan yang signifikan antara kedua kelompok\n",
            "=====================================\n"
          ]
        }
      ],
      "execution_count": 67
    },
    {
      "cell_type": "code",
      "source": "# Kelompok 247 (A) dan 248 (B)\nfor event in users_events_per_group.index:\n    check_event_hypothesis(users_events_per_group, users_per_group, event, 247, 248)\n    print('=====================================')",
      "metadata": {},
      "outputs": [
        {
          "name": "stdout",
          "output_type": "stream",
          "text": [
            "event MainScreenAppear group 247\n",
            "event MainScreenAppear group 248\n",
            "p-value:  [0.60016616]\n",
            "Gagal menolak hipotesis 0, tidak terdapat perbedaan yang signifikan antara kedua kelompok\n",
            "=====================================\n",
            "event OffersScreenAppear group 247\n",
            "event OffersScreenAppear group 248\n",
            "p-value:  [0.88359567]\n",
            "Gagal menolak hipotesis 0, tidak terdapat perbedaan yang signifikan antara kedua kelompok\n",
            "=====================================\n",
            "event CartScreenAppear group 247\n",
            "event CartScreenAppear group 248\n",
            "p-value:  [0.61695175]\n",
            "Gagal menolak hipotesis 0, tidak terdapat perbedaan yang signifikan antara kedua kelompok\n",
            "=====================================\n",
            "event PaymentScreenSuccessful group 247\n",
            "event PaymentScreenSuccessful group 248\n",
            "p-value:  [0.67754136]\n",
            "Gagal menolak hipotesis 0, tidak terdapat perbedaan yang signifikan antara kedua kelompok\n",
            "=====================================\n",
            "event Tutorial group 247\n",
            "event Tutorial group 248\n",
            "p-value:  [0.8151967]\n",
            "Gagal menolak hipotesis 0, tidak terdapat perbedaan yang signifikan antara kedua kelompok\n",
            "=====================================\n"
          ]
        }
      ],
      "execution_count": 68
    },
    {
      "cell_type": "code",
      "source": "# gabungkan kelompok 246 dan 247\nusers_events_per_group_control = users_events_per_group.copy()\nusers_events_per_group_control.loc[:, 247] += users_events_per_group_control.loc[:, 246]\nusers_events_per_group_control.drop(columns=246, inplace=True)\n\nusers_events_per_group_control",
      "metadata": {},
      "outputs": [
        {
          "data": {
            "text/html": [
              "<div>\n",
              "<style scoped>\n",
              "    .dataframe tbody tr th:only-of-type {\n",
              "        vertical-align: middle;\n",
              "    }\n",
              "\n",
              "    .dataframe tbody tr th {\n",
              "        vertical-align: top;\n",
              "    }\n",
              "\n",
              "    .dataframe thead th {\n",
              "        text-align: right;\n",
              "    }\n",
              "</style>\n",
              "<table border=\"1\" class=\"dataframe\">\n",
              "  <thead>\n",
              "    <tr style=\"text-align: right;\">\n",
              "      <th>exp_id</th>\n",
              "      <th>247</th>\n",
              "      <th>248</th>\n",
              "    </tr>\n",
              "    <tr>\n",
              "      <th>event</th>\n",
              "      <th></th>\n",
              "      <th></th>\n",
              "    </tr>\n",
              "  </thead>\n",
              "  <tbody>\n",
              "    <tr>\n",
              "      <th>MainScreenAppear</th>\n",
              "      <td>4929</td>\n",
              "      <td>2494</td>\n",
              "    </tr>\n",
              "    <tr>\n",
              "      <th>OffersScreenAppear</th>\n",
              "      <td>3066</td>\n",
              "      <td>1531</td>\n",
              "    </tr>\n",
              "    <tr>\n",
              "      <th>CartScreenAppear</th>\n",
              "      <td>2505</td>\n",
              "      <td>1231</td>\n",
              "    </tr>\n",
              "    <tr>\n",
              "      <th>PaymentScreenSuccessful</th>\n",
              "      <td>2358</td>\n",
              "      <td>1182</td>\n",
              "    </tr>\n",
              "    <tr>\n",
              "      <th>Tutorial</th>\n",
              "      <td>562</td>\n",
              "      <td>281</td>\n",
              "    </tr>\n",
              "  </tbody>\n",
              "</table>\n",
              "</div>"
            ],
            "text/plain": [
              "exp_id                    247   248\n",
              "event                              \n",
              "MainScreenAppear         4929  2494\n",
              "OffersScreenAppear       3066  1531\n",
              "CartScreenAppear         2505  1231\n",
              "PaymentScreenSuccessful  2358  1182\n",
              "Tutorial                  562   281"
            ]
          },
          "execution_count": 69,
          "metadata": {},
          "output_type": "execute_result"
        }
      ],
      "execution_count": 69
    },
    {
      "cell_type": "code",
      "source": "users_events_per_group",
      "metadata": {},
      "outputs": [
        {
          "data": {
            "text/html": [
              "<div>\n",
              "<style scoped>\n",
              "    .dataframe tbody tr th:only-of-type {\n",
              "        vertical-align: middle;\n",
              "    }\n",
              "\n",
              "    .dataframe tbody tr th {\n",
              "        vertical-align: top;\n",
              "    }\n",
              "\n",
              "    .dataframe thead th {\n",
              "        text-align: right;\n",
              "    }\n",
              "</style>\n",
              "<table border=\"1\" class=\"dataframe\">\n",
              "  <thead>\n",
              "    <tr style=\"text-align: right;\">\n",
              "      <th>exp_id</th>\n",
              "      <th>246</th>\n",
              "      <th>247</th>\n",
              "      <th>248</th>\n",
              "    </tr>\n",
              "    <tr>\n",
              "      <th>event</th>\n",
              "      <th></th>\n",
              "      <th></th>\n",
              "      <th></th>\n",
              "    </tr>\n",
              "  </thead>\n",
              "  <tbody>\n",
              "    <tr>\n",
              "      <th>MainScreenAppear</th>\n",
              "      <td>2450</td>\n",
              "      <td>2479</td>\n",
              "      <td>2494</td>\n",
              "    </tr>\n",
              "    <tr>\n",
              "      <th>OffersScreenAppear</th>\n",
              "      <td>1542</td>\n",
              "      <td>1524</td>\n",
              "      <td>1531</td>\n",
              "    </tr>\n",
              "    <tr>\n",
              "      <th>CartScreenAppear</th>\n",
              "      <td>1266</td>\n",
              "      <td>1239</td>\n",
              "      <td>1231</td>\n",
              "    </tr>\n",
              "    <tr>\n",
              "      <th>PaymentScreenSuccessful</th>\n",
              "      <td>1200</td>\n",
              "      <td>1158</td>\n",
              "      <td>1182</td>\n",
              "    </tr>\n",
              "    <tr>\n",
              "      <th>Tutorial</th>\n",
              "      <td>278</td>\n",
              "      <td>284</td>\n",
              "      <td>281</td>\n",
              "    </tr>\n",
              "  </tbody>\n",
              "</table>\n",
              "</div>"
            ],
            "text/plain": [
              "exp_id                    246   247   248\n",
              "event                                    \n",
              "MainScreenAppear         2450  2479  2494\n",
              "OffersScreenAppear       1542  1524  1531\n",
              "CartScreenAppear         1266  1239  1231\n",
              "PaymentScreenSuccessful  1200  1158  1182\n",
              "Tutorial                  278   284   281"
            ]
          },
          "execution_count": 70,
          "metadata": {},
          "output_type": "execute_result"
        }
      ],
      "execution_count": 70
    },
    {
      "cell_type": "code",
      "source": "# gabungkan kelompok 246 dan 247\nusers_per_group_control = users_per_group.copy()\nusers_per_group_control.loc[247] += users_per_group_control.loc[246]\nusers_per_group_control.drop(246, inplace=True)\nusers_per_group_control",
      "metadata": {},
      "outputs": [
        {
          "data": {
            "text/html": [
              "<div>\n",
              "<style scoped>\n",
              "    .dataframe tbody tr th:only-of-type {\n",
              "        vertical-align: middle;\n",
              "    }\n",
              "\n",
              "    .dataframe tbody tr th {\n",
              "        vertical-align: top;\n",
              "    }\n",
              "\n",
              "    .dataframe thead th {\n",
              "        text-align: right;\n",
              "    }\n",
              "</style>\n",
              "<table border=\"1\" class=\"dataframe\">\n",
              "  <thead>\n",
              "    <tr style=\"text-align: right;\">\n",
              "      <th></th>\n",
              "      <th>user</th>\n",
              "    </tr>\n",
              "    <tr>\n",
              "      <th>exp_id</th>\n",
              "      <th></th>\n",
              "    </tr>\n",
              "  </thead>\n",
              "  <tbody>\n",
              "    <tr>\n",
              "      <th>247</th>\n",
              "      <td>5001</td>\n",
              "    </tr>\n",
              "    <tr>\n",
              "      <th>248</th>\n",
              "      <td>2537</td>\n",
              "    </tr>\n",
              "  </tbody>\n",
              "</table>\n",
              "</div>"
            ],
            "text/plain": [
              "        user\n",
              "exp_id      \n",
              "247     5001\n",
              "248     2537"
            ]
          },
          "execution_count": 71,
          "metadata": {},
          "output_type": "execute_result"
        }
      ],
      "execution_count": 71
    },
    {
      "cell_type": "code",
      "source": "# Kelompok 246+247 (A) dan 248 (B)\nfor event in users_events_per_group.index:\n    check_event_hypothesis(users_events_per_group_control, users_per_group_control, event, 247, 248)\n    print('=====================================')",
      "metadata": {},
      "outputs": [
        {
          "name": "stdout",
          "output_type": "stream",
          "text": [
            "event MainScreenAppear group 247\n",
            "event MainScreenAppear group 248\n",
            "p-value:  [0.39298915]\n",
            "Gagal menolak hipotesis 0, tidak terdapat perbedaan yang signifikan antara kedua kelompok\n",
            "=====================================\n",
            "event OffersScreenAppear group 247\n",
            "event OffersScreenAppear group 248\n",
            "p-value:  [0.41899828]\n",
            "Gagal menolak hipotesis 0, tidak terdapat perbedaan yang signifikan antara kedua kelompok\n",
            "=====================================\n",
            "event CartScreenAppear group 247\n",
            "event CartScreenAppear group 248\n",
            "p-value:  [0.19819341]\n",
            "Gagal menolak hipotesis 0, tidak terdapat perbedaan yang signifikan antara kedua kelompok\n",
            "=====================================\n",
            "event PaymentScreenSuccessful group 247\n",
            "event PaymentScreenSuccessful group 248\n",
            "p-value:  [0.64520577]\n",
            "Gagal menolak hipotesis 0, tidak terdapat perbedaan yang signifikan antara kedua kelompok\n",
            "=====================================\n",
            "event Tutorial group 247\n",
            "event Tutorial group 248\n",
            "p-value:  [0.83330491]\n",
            "Gagal menolak hipotesis 0, tidak terdapat perbedaan yang signifikan antara kedua kelompok\n",
            "=====================================\n"
          ]
        }
      ],
      "execution_count": 72
    },
    {
      "cell_type": "markdown",
      "source": "**Kesimpulan Sementara**\n\n* Berdasarkan uji coba hipotesis diatas dengan alpha 0.1, tidak ada perbedaan yang signifikan antara Kelompok 246 (A) dan 248 (B), artinya tidak ada perbedaan yang signifikan dalam perubahan font untuk keseluruhan aplikasi\n* Berdasarkan uji coba hipotesis diatas dengan alpha 0.1, tidak ada perbedaan yang signifikan antara Kelompok 247 (A) dan 248 (B), artinya tidak ada perbedaan yang signifikan dalam perubahan font untuk keseluruhan aplikasi\n* Berdasarkan uji coba hipotesis diatas dengan alpha 0.1, tidak ada perbedaan yang signifikan antara Kelompok 246+247 (A) dan 248 (B), artinya tidak ada perbedaan yang signifikan dalam perubahan font untuk keseluruhan aplikasi",
      "metadata": {}
    },
    {
      "cell_type": "markdown",
      "source": "### Berapa tingkat signifikansi yang kamu tetapkan untuk menguji hipotesis statistik yang disebutkan di atas? Hitung berapa banyak pengujian hipotesis statistik yang telah kamu lakukan. Dengan tingkat signifikansi statistik 0,1 - satu dari 10 hasil bisa saja salah. Berapa tingkat signifikansi yang seharusnya ditetapkan? Jika kamu ingin mengubahnya, jalankan ulang tahap sebelumnya dan periksa kesimpulanmu.\n\n* alpha 0.1 --> kesimpulannya semua failed to reject alpha\n* alpha 0.05 --> kesimpulannya apa\n* alpha 0.01 --> kesimpulannya apa",
      "metadata": {}
    },
    {
      "cell_type": "markdown",
      "source": "#### Alpha 0.05",
      "metadata": {}
    },
    {
      "cell_type": "code",
      "source": "# alpha 0.05\n# buat function lagi untuk cek hypotesis setiap event dengan alpha 0.05\ndef check_event_hypothesis(users_events_per_group, users_per_group, event, exp1, exp2):\n    frac1 = users_events_per_group.loc[event, exp1] / users_per_group.loc[exp1]\n    frac2 = users_events_per_group.loc[event, exp2] / users_per_group.loc[exp2]\n    print(f'event {event} group {exp1}')\n    print(f'event {event} group {exp2}')\n    check_hypothesis(users_events_per_group.loc[event, exp1], \n                     users_events_per_group.loc[event, exp2], \n                     users_per_group.loc[exp1], \n                     users_per_group.loc[exp2], alpha=0.05)",
      "metadata": {},
      "outputs": [],
      "execution_count": 73
    },
    {
      "cell_type": "code",
      "source": "# Kelompok 246 (A) dan 247 (A)\nfor event in users_events_per_group.index:\n    check_event_hypothesis(users_events_per_group, users_per_group, event, 246, 247)\n    print('===========================================================')",
      "metadata": {},
      "outputs": [
        {
          "name": "stdout",
          "output_type": "stream",
          "text": [
            "event MainScreenAppear group 246\n",
            "event MainScreenAppear group 247\n",
            "p-value:  [0.67562177]\n",
            "Gagal menolak hipotesis 0, tidak terdapat perbedaan yang signifikan antara kedua kelompok\n",
            "===========================================================\n",
            "event OffersScreenAppear group 246\n",
            "event OffersScreenAppear group 247\n",
            "p-value:  [0.26698769]\n",
            "Gagal menolak hipotesis 0, tidak terdapat perbedaan yang signifikan antara kedua kelompok\n",
            "===========================================================\n",
            "event CartScreenAppear group 246\n",
            "event CartScreenAppear group 247\n",
            "p-value:  [0.21828121]\n",
            "Gagal menolak hipotesis 0, tidak terdapat perbedaan yang signifikan antara kedua kelompok\n",
            "===========================================================\n",
            "event PaymentScreenSuccessful group 246\n",
            "event PaymentScreenSuccessful group 247\n",
            "p-value:  [0.10298395]\n",
            "Gagal menolak hipotesis 0, tidak terdapat perbedaan yang signifikan antara kedua kelompok\n",
            "===========================================================\n",
            "event Tutorial group 246\n",
            "event Tutorial group 247\n",
            "p-value:  [0.91827903]\n",
            "Gagal menolak hipotesis 0, tidak terdapat perbedaan yang signifikan antara kedua kelompok\n",
            "===========================================================\n"
          ]
        }
      ],
      "execution_count": 74
    },
    {
      "cell_type": "code",
      "source": "# Kelompok 246 (A) dan 248 (B)\nfor event in users_events_per_group.index:\n    check_event_hypothesis(users_events_per_group, users_per_group, event, 246, 248)\n    print('=====================================')",
      "metadata": {},
      "outputs": [
        {
          "name": "stdout",
          "output_type": "stream",
          "text": [
            "event MainScreenAppear group 246\n",
            "event MainScreenAppear group 248\n",
            "p-value:  [0.34705881]\n",
            "Gagal menolak hipotesis 0, tidak terdapat perbedaan yang signifikan antara kedua kelompok\n",
            "=====================================\n",
            "event OffersScreenAppear group 246\n",
            "event OffersScreenAppear group 248\n",
            "p-value:  [0.20836205]\n",
            "Gagal menolak hipotesis 0, tidak terdapat perbedaan yang signifikan antara kedua kelompok\n",
            "=====================================\n",
            "event CartScreenAppear group 246\n",
            "event CartScreenAppear group 248\n",
            "p-value:  [0.08328413]\n",
            "Gagal menolak hipotesis 0, tidak terdapat perbedaan yang signifikan antara kedua kelompok\n",
            "=====================================\n",
            "event PaymentScreenSuccessful group 246\n",
            "event PaymentScreenSuccessful group 248\n",
            "p-value:  [0.22269359]\n",
            "Gagal menolak hipotesis 0, tidak terdapat perbedaan yang signifikan antara kedua kelompok\n",
            "=====================================\n",
            "event Tutorial group 246\n",
            "event Tutorial group 248\n",
            "p-value:  [0.89644896]\n",
            "Gagal menolak hipotesis 0, tidak terdapat perbedaan yang signifikan antara kedua kelompok\n",
            "=====================================\n"
          ]
        }
      ],
      "execution_count": 75
    },
    {
      "cell_type": "code",
      "source": "# Kelompok 247 (A) dan 248 (B)\nfor event in users_events_per_group.index:\n    check_event_hypothesis(users_events_per_group, users_per_group, event, 247, 248)\n    print('=====================================')",
      "metadata": {},
      "outputs": [
        {
          "name": "stdout",
          "output_type": "stream",
          "text": [
            "event MainScreenAppear group 247\n",
            "event MainScreenAppear group 248\n",
            "p-value:  [0.60016616]\n",
            "Gagal menolak hipotesis 0, tidak terdapat perbedaan yang signifikan antara kedua kelompok\n",
            "=====================================\n",
            "event OffersScreenAppear group 247\n",
            "event OffersScreenAppear group 248\n",
            "p-value:  [0.88359567]\n",
            "Gagal menolak hipotesis 0, tidak terdapat perbedaan yang signifikan antara kedua kelompok\n",
            "=====================================\n",
            "event CartScreenAppear group 247\n",
            "event CartScreenAppear group 248\n",
            "p-value:  [0.61695175]\n",
            "Gagal menolak hipotesis 0, tidak terdapat perbedaan yang signifikan antara kedua kelompok\n",
            "=====================================\n",
            "event PaymentScreenSuccessful group 247\n",
            "event PaymentScreenSuccessful group 248\n",
            "p-value:  [0.67754136]\n",
            "Gagal menolak hipotesis 0, tidak terdapat perbedaan yang signifikan antara kedua kelompok\n",
            "=====================================\n",
            "event Tutorial group 247\n",
            "event Tutorial group 248\n",
            "p-value:  [0.8151967]\n",
            "Gagal menolak hipotesis 0, tidak terdapat perbedaan yang signifikan antara kedua kelompok\n",
            "=====================================\n"
          ]
        }
      ],
      "execution_count": 76
    },
    {
      "cell_type": "code",
      "source": "# Kelompok 246+247 (A) dan 248 (B)\nfor event in users_events_per_group.index:\n    check_event_hypothesis(users_events_per_group_control, users_per_group_control, event, 247, 248)\n    print('=====================================')",
      "metadata": {},
      "outputs": [
        {
          "name": "stdout",
          "output_type": "stream",
          "text": [
            "event MainScreenAppear group 247\n",
            "event MainScreenAppear group 248\n",
            "p-value:  [0.39298915]\n",
            "Gagal menolak hipotesis 0, tidak terdapat perbedaan yang signifikan antara kedua kelompok\n",
            "=====================================\n",
            "event OffersScreenAppear group 247\n",
            "event OffersScreenAppear group 248\n",
            "p-value:  [0.41899828]\n",
            "Gagal menolak hipotesis 0, tidak terdapat perbedaan yang signifikan antara kedua kelompok\n",
            "=====================================\n",
            "event CartScreenAppear group 247\n",
            "event CartScreenAppear group 248\n",
            "p-value:  [0.19819341]\n",
            "Gagal menolak hipotesis 0, tidak terdapat perbedaan yang signifikan antara kedua kelompok\n",
            "=====================================\n",
            "event PaymentScreenSuccessful group 247\n",
            "event PaymentScreenSuccessful group 248\n",
            "p-value:  [0.64520577]\n",
            "Gagal menolak hipotesis 0, tidak terdapat perbedaan yang signifikan antara kedua kelompok\n",
            "=====================================\n",
            "event Tutorial group 247\n",
            "event Tutorial group 248\n",
            "p-value:  [0.83330491]\n",
            "Gagal menolak hipotesis 0, tidak terdapat perbedaan yang signifikan antara kedua kelompok\n",
            "=====================================\n"
          ]
        }
      ],
      "execution_count": 77
    },
    {
      "cell_type": "markdown",
      "source": "**Kesimpulan Sementara** \n\n* Berdasarkan uji coba hipotesis diatas dengan alpha 0.05, tidak ada perbedaan yang signifikan antara Kelompok 246 (A) dan 247 (A), artinya tidak ada perbedaan yang signifikan dalam penggunaan font lama untuk keseluruhan aplikasi\n* Berdasarkan uji coba hipotesis diatas dengan alpha 0.05, tidak ada perbedaan yang signifikan antara Kelompok 246 (A) dan 248 (B), artinya tidak ada perbedaan yang signifikan dalam perubahan font untuk keseluruhan aplikasi\n* Berdasarkan uji coba hipotesis diatas dengan alpha 0.05, tidak ada perbedaan yang signifikan antara Kelompok 247 (A) dan 248 (B), artinya tidak ada perbedaan yang signifikan dalam perubahan font untuk keseluruhan aplikasi\n* Berdasarkan uji coba hipotesis diatas dengan alpha 0.05, tidak ada perbedaan yang signifikan antara Kelompok 246+247 (A) dan 248 (B), artinya tidak ada perbedaan yang signifikan dalam perubahan font untuk keseluruhan aplikasi",
      "metadata": {}
    },
    {
      "cell_type": "markdown",
      "source": "#### Alpha 0.01",
      "metadata": {}
    },
    {
      "cell_type": "code",
      "source": "# alpha 0.01\n# buat function lagi untuk cek hypotesis setiap event dengan alpha 0.01\ndef check_event_hypothesis(users_events_per_group, users_per_group, event, exp1, exp2):\n    frac1 = users_events_per_group.loc[event, exp1] / users_per_group.loc[exp1]\n    frac2 = users_events_per_group.loc[event, exp2] / users_per_group.loc[exp2]\n    print(f'event {event} group {exp1}')\n    print(f'event {event} group {exp2}')\n    check_hypothesis(users_events_per_group.loc[event, exp1], \n                     users_events_per_group.loc[event, exp2], \n                     users_per_group.loc[exp1], \n                     users_per_group.loc[exp2], alpha=0.01)",
      "metadata": {},
      "outputs": [],
      "execution_count": 78
    },
    {
      "cell_type": "code",
      "source": "# Kelompok 246 (A) dan 247 (A)\nfor event in users_events_per_group.index:\n    check_event_hypothesis(users_events_per_group, users_per_group, event, 246, 247)\n    print('===========================================================')",
      "metadata": {},
      "outputs": [
        {
          "name": "stdout",
          "output_type": "stream",
          "text": [
            "event MainScreenAppear group 246\n",
            "event MainScreenAppear group 247\n",
            "p-value:  [0.67562177]\n",
            "Gagal menolak hipotesis 0, tidak terdapat perbedaan yang signifikan antara kedua kelompok\n",
            "===========================================================\n",
            "event OffersScreenAppear group 246\n",
            "event OffersScreenAppear group 247\n",
            "p-value:  [0.26698769]\n",
            "Gagal menolak hipotesis 0, tidak terdapat perbedaan yang signifikan antara kedua kelompok\n",
            "===========================================================\n",
            "event CartScreenAppear group 246\n",
            "event CartScreenAppear group 247\n",
            "p-value:  [0.21828121]\n",
            "Gagal menolak hipotesis 0, tidak terdapat perbedaan yang signifikan antara kedua kelompok\n",
            "===========================================================\n",
            "event PaymentScreenSuccessful group 246\n",
            "event PaymentScreenSuccessful group 247\n",
            "p-value:  [0.10298395]\n",
            "Gagal menolak hipotesis 0, tidak terdapat perbedaan yang signifikan antara kedua kelompok\n",
            "===========================================================\n",
            "event Tutorial group 246\n",
            "event Tutorial group 247\n",
            "p-value:  [0.91827903]\n",
            "Gagal menolak hipotesis 0, tidak terdapat perbedaan yang signifikan antara kedua kelompok\n",
            "===========================================================\n"
          ]
        }
      ],
      "execution_count": 79
    },
    {
      "cell_type": "code",
      "source": "# Kelompok 246 (A) dan 248 (B)\nfor event in users_events_per_group.index:\n    check_event_hypothesis(users_events_per_group, users_per_group, event, 246, 248)\n    print('=====================================')",
      "metadata": {},
      "outputs": [
        {
          "name": "stdout",
          "output_type": "stream",
          "text": [
            "event MainScreenAppear group 246\n",
            "event MainScreenAppear group 248\n",
            "p-value:  [0.34705881]\n",
            "Gagal menolak hipotesis 0, tidak terdapat perbedaan yang signifikan antara kedua kelompok\n",
            "=====================================\n",
            "event OffersScreenAppear group 246\n",
            "event OffersScreenAppear group 248\n",
            "p-value:  [0.20836205]\n",
            "Gagal menolak hipotesis 0, tidak terdapat perbedaan yang signifikan antara kedua kelompok\n",
            "=====================================\n",
            "event CartScreenAppear group 246\n",
            "event CartScreenAppear group 248\n",
            "p-value:  [0.08328413]\n",
            "Gagal menolak hipotesis 0, tidak terdapat perbedaan yang signifikan antara kedua kelompok\n",
            "=====================================\n",
            "event PaymentScreenSuccessful group 246\n",
            "event PaymentScreenSuccessful group 248\n",
            "p-value:  [0.22269359]\n",
            "Gagal menolak hipotesis 0, tidak terdapat perbedaan yang signifikan antara kedua kelompok\n",
            "=====================================\n",
            "event Tutorial group 246\n",
            "event Tutorial group 248\n",
            "p-value:  [0.89644896]\n",
            "Gagal menolak hipotesis 0, tidak terdapat perbedaan yang signifikan antara kedua kelompok\n",
            "=====================================\n"
          ]
        }
      ],
      "execution_count": 80
    },
    {
      "cell_type": "code",
      "source": "# Kelompok 247 (A) dan 248 (B)\nfor event in users_events_per_group.index:\n    check_event_hypothesis(users_events_per_group, users_per_group, event, 247, 248)\n    print('=====================================')",
      "metadata": {},
      "outputs": [
        {
          "name": "stdout",
          "output_type": "stream",
          "text": [
            "event MainScreenAppear group 247\n",
            "event MainScreenAppear group 248\n",
            "p-value:  [0.60016616]\n",
            "Gagal menolak hipotesis 0, tidak terdapat perbedaan yang signifikan antara kedua kelompok\n",
            "=====================================\n",
            "event OffersScreenAppear group 247\n",
            "event OffersScreenAppear group 248\n",
            "p-value:  [0.88359567]\n",
            "Gagal menolak hipotesis 0, tidak terdapat perbedaan yang signifikan antara kedua kelompok\n",
            "=====================================\n",
            "event CartScreenAppear group 247\n",
            "event CartScreenAppear group 248\n",
            "p-value:  [0.61695175]\n",
            "Gagal menolak hipotesis 0, tidak terdapat perbedaan yang signifikan antara kedua kelompok\n",
            "=====================================\n",
            "event PaymentScreenSuccessful group 247\n",
            "event PaymentScreenSuccessful group 248\n",
            "p-value:  [0.67754136]\n",
            "Gagal menolak hipotesis 0, tidak terdapat perbedaan yang signifikan antara kedua kelompok\n",
            "=====================================\n",
            "event Tutorial group 247\n",
            "event Tutorial group 248\n",
            "p-value:  [0.8151967]\n",
            "Gagal menolak hipotesis 0, tidak terdapat perbedaan yang signifikan antara kedua kelompok\n",
            "=====================================\n"
          ]
        }
      ],
      "execution_count": 81
    },
    {
      "cell_type": "code",
      "source": "# Kelompok 246+247 (A) dan 248 (B)\nfor event in users_events_per_group.index:\n    check_event_hypothesis(users_events_per_group_control, users_per_group_control, event, 247, 248)\n    print('=====================================')",
      "metadata": {},
      "outputs": [
        {
          "name": "stdout",
          "output_type": "stream",
          "text": [
            "event MainScreenAppear group 247\n",
            "event MainScreenAppear group 248\n",
            "p-value:  [0.39298915]\n",
            "Gagal menolak hipotesis 0, tidak terdapat perbedaan yang signifikan antara kedua kelompok\n",
            "=====================================\n",
            "event OffersScreenAppear group 247\n",
            "event OffersScreenAppear group 248\n",
            "p-value:  [0.41899828]\n",
            "Gagal menolak hipotesis 0, tidak terdapat perbedaan yang signifikan antara kedua kelompok\n",
            "=====================================\n",
            "event CartScreenAppear group 247\n",
            "event CartScreenAppear group 248\n",
            "p-value:  [0.19819341]\n",
            "Gagal menolak hipotesis 0, tidak terdapat perbedaan yang signifikan antara kedua kelompok\n",
            "=====================================\n",
            "event PaymentScreenSuccessful group 247\n",
            "event PaymentScreenSuccessful group 248\n",
            "p-value:  [0.64520577]\n",
            "Gagal menolak hipotesis 0, tidak terdapat perbedaan yang signifikan antara kedua kelompok\n",
            "=====================================\n",
            "event Tutorial group 247\n",
            "event Tutorial group 248\n",
            "p-value:  [0.83330491]\n",
            "Gagal menolak hipotesis 0, tidak terdapat perbedaan yang signifikan antara kedua kelompok\n",
            "=====================================\n"
          ]
        }
      ],
      "execution_count": 82
    },
    {
      "cell_type": "markdown",
      "source": "**Kesimpulan Sementara** \n\n* Berdasarkan uji coba hipotesis diatas dengan alpha 0.01, tidak ada perbedaan yang signifikan antara Kelompok 246 (A) dan 247 (A), artinya tidak ada perbedaan yang signifikan dalam penggunaan font lama untuk keseluruhan aplikasi\n* Berdasarkan uji coba hipotesis diatas dengan alpha 0.01, tidak ada perbedaan yang signifikan antara Kelompok 246 (A) dan 248 (B), artinya tidak ada perbedaan yang signifikan dalam perubahan font untuk keseluruhan aplikasi\n* Berdasarkan uji coba hipotesis diatas dengan alpha 0.01, tidak ada perbedaan yang signifikan antara Kelompok 247 (A) dan 248 (B), artinya tidak ada perbedaan yang signifikan dalam perubahan font untuk keseluruhan aplikasi\n* Berdasarkan uji coba hipotesis diatas dengan alpha 0.01, tidak ada perbedaan yang signifikan antara Kelompok 246+247 (A) dan 248 (B), artinya tidak ada perbedaan yang signifikan dalam perubahan font untuk keseluruhan aplikasi",
      "metadata": {}
    },
    {
      "cell_type": "markdown",
      "source": "## Kesimpulan Umum",
      "metadata": {}
    },
    {
      "cell_type": "markdown",
      "source": "A. Pelajari dan periksa datanya\n\n* Terdapat 243.713 peristiwa yang tercatat dalam dataset\n* Terdapat 7.551 pengguna yang tercatat dalam dataset\n* Berdasarkan perhitungan diatas, terdapat 32 peristiwa setiap pengguna yang tercatat dalam dataset\n* Data telah di filter, dengan mengabaikan dan menghapus data terdahulu, sehingga kita memiliki periode waktu dari 1 Agustus 2019 hingga 7 Agustus 2019\n* Berdasarkan perhitungan diatas, data yang hilang dibawah 1%, artinya data yang hilang tidak banyak dan tidak berpengaruh ketika menyingkirkan data lama.\n* Kelompok 248 adalah kelompok paling banyak yang memiliki jumlah pengguna\n* Kelompok 247 adalah kelompok paling sedikit yang memiliki jumlah pengguna\n\n\nB. Pelajari funnel nya peristiwanya\n\n* MainScreenAppear menjadi peristiwa paling banyak frekuensi kemunculannya\n* Tutorial menjadi peristiwa paling sedikit frekuensi kemunculannya\n* Hampir 98% atau sebagian besar pengguna melakukan peristiwa MainScreenAppear, peristiwa selain itu hanya berikisar dibawah 61%\n* Tutorial adalah peristiwa yang paling sedikit diakses oleh pengguna\n* Berdasarkan perhitungan diatas, kita dapat mengasumsikan urutan tindakan yang mungkin terjadi adalah:\n    * MainScreenAppear -> OffersScreenAppear -> CartScreenAppear -> PaymentScreenSuccessful. Tutorial kemungkinan besar terjadi setelah langkah-langkah tersebut, tetapi hanya kemungkinan kecil.\n    * Namun, perlu diingat bahwa urutan diatas hanya estimasi berdasarkan probabilitas dari perhitungan diatas, dan tidak ada informasi langsung tentang urutan waktu antar peristiwa.\n* Selain itu, tidak semua peristiwa harus terjadi dalam urutan ini, karena beberapa pengguna mungkin memilih untuk melompati tutorial atau beralih layar tanpa melihat tawaran.\n* Rasio paling tinggi adalah Rasio peristiwa PaymentScreenSuccessful terhadap CartScreenAppear\n* Rasio paling rendah adalah Rasio peristiwa OffersScreenAppear terhadap MainScreenAppear\n* Dari perbandingan di atas, kehilangan pengguna terbesar terjadi pada langkah dari \"MainScreenAppear\" ke \"OffersScreenAppear\" dengan perbandingan sekitar 0.619.\n    * Artinya, sekitar 38.1% (1 - 0.619291) dari pengguna yang melihat layar utama tidak melanjutkan ke layar tawaran.\n    * Jadi, pada tahap dari MainScreenAppear ke OffersScreenAppear adalah di mana kehilangan pengguna terbesar terjadi dalam funnel.\n* Jadi, sekitar 47.69% dari pengguna yang memulai dari peristiwa pertama (MainScreenAppear) berhasil menyelesaikan seluruh tahapan hingga mencapai pembayaran (PaymentScreenSuccessful).\n\nC. Pelajari Hasil eksperinmenmu (Uji hipotesis)\n\n* Banyak nya pengguna setiap kelompok tidak terlalu jauh perbedaan jumlahnya\n* Alpha 0.1\n    * Berdasarkan data diatas, tidak ada perbedaan yang signifikan secara statistik antara sampel 246 dan 247\n    * Berdasarkan uji coba hipotesis diatas dengan alpha 0.1, tidak ada perbedaan yang signifikan antara kelompok 246 (A) dan 247 (A), artinya tidak ada perbedaan yang signifikan dalam penggunaan font lama untuk keseluruhan aplikasi\n    * Berdasarkan uji coba hipotesis diatas dengan alpha 0.1, tidak ada perbedaan yang signifikan antara Kelompok 246 (A) dan 248 (B), artinya tidak ada perbedaan yang signifikan dalam perubahan font untuk keseluruhan aplikasi\n    * Berdasarkan uji coba hipotesis diatas dengan alpha 0.1, tidak ada perbedaan yang signifikan antara Kelompok 247 (A) dan 248 (B), artinya tidak ada perbedaan yang signifikan dalam perubahan font untuk keseluruhan aplikasi\n    * Berdasarkan uji coba hipotesis diatas dengan alpha 0.1, tidak ada perbedaan yang signifikan antara Kelompok 246+247 (A) dan 248 (B), artinya tidak ada perbedaan yang signifikan dalam perubahan font untuk keseluruhan aplikasi\n    \n* Alpha 0.5\n    * Berdasarkan uji coba hipotesis diatas dengan alpha 0.05, tidak ada perbedaan yang signifikan antara Kelompok 246 (A) dan 247 (A), artinya tidak ada perbedaan yang signifikan dalam penggunaan font lama untuk keseluruhan aplikasi\n    * Berdasarkan uji coba hipotesis diatas dengan alpha 0.05, tidak ada perbedaan yang signifikan antara Kelompok 246 (A) dan 248 (B), artinya tidak ada perbedaan yang signifikan dalam perubahan font untuk keseluruhan aplikasi\n    * Berdasarkan uji coba hipotesis diatas dengan alpha 0.05, tidak ada perbedaan yang signifikan antara Kelompok 247 (A) dan 248 (B), artinya tidak ada perbedaan yang signifikan dalam perubahan font untuk keseluruhan aplikasi\n    * Berdasarkan uji coba hipotesis diatas dengan alpha 0.05, tidak ada perbedaan yang signifikan antara Kelompok 246+247 (A) dan 248 (B), artinya tidak ada perbedaan yang signifikan dalam perubahan font untuk keseluruhan aplikasi\n\n* Alpha 0.01\n    * Berdasarkan uji coba hipotesis diatas dengan alpha 0.01, tidak ada perbedaan yang signifikan antara Kelompok 246 (A) dan 247 (A), artinya tidak ada perbedaan yang signifikan dalam penggunaan font lama untuk keseluruhan aplikasi\n    * Berdasarkan uji coba hipotesis diatas dengan alpha 0.01, tidak ada perbedaan yang signifikan antara Kelompok 246 (A) dan 248 (B), artinya tidak ada perbedaan yang signifikan dalam perubahan font untuk keseluruhan aplikasi\n    * Berdasarkan uji coba hipotesis diatas dengan alpha 0.01, tidak ada perbedaan yang signifikan antara Kelompok 247 (A) dan 248 (B), artinya tidak ada perbedaan yang signifikan dalam perubahan font untuk keseluruhan aplikasi\n    * Berdasarkan uji coba hipotesis diatas dengan alpha 0.01, tidak ada perbedaan yang signifikan antara Kelompok 246+247 (A) dan 248 (B), artinya tidak ada perbedaan yang signifikan dalam perubahan font untuk keseluruhan aplikasi\n    \n**Kesimpulan Utama : Berdasarkan hasil analisis diatas, perubahan font pada aplikasi tidak begitu berpengaruh pada rata-rata konversi penjualan produk makanan**",
      "metadata": {}
    },
    {
      "cell_type": "code",
      "source": "",
      "metadata": {},
      "outputs": [],
      "execution_count": null
    }
  ]
}